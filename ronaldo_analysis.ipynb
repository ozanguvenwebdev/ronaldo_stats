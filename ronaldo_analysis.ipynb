{
 "cells": [
  {
   "cell_type": "markdown",
   "metadata": {},
   "source": [
    "# Analysing Data"
   ]
  },
  {
   "cell_type": "markdown",
   "metadata": {},
   "source": [
    "## Arranging Our Data Frame "
   ]
  },
  {
   "cell_type": "markdown",
   "metadata": {},
   "source": [
    "### Importing Libraries"
   ]
  },
  {
   "cell_type": "code",
   "execution_count": 154,
   "metadata": {},
   "outputs": [],
   "source": [
    "import os\n",
    "import pandas as pd\n",
    "import numpy as np\n",
    "import matplotlib.pyplot as plt\n",
    "import seaborn as sns\n",
    "import math\n",
    "import matplotlib.ticker as ticker"
   ]
  },
  {
   "cell_type": "markdown",
   "metadata": {},
   "source": [
    "### Reading the file by using panda"
   ]
  },
  {
   "cell_type": "code",
   "execution_count": 7,
   "metadata": {},
   "outputs": [],
   "source": [
    "ronaldo_data = pd.read_csv(\"C:/Users/pc/Desktop/Ronaldo_Statistics_Github\")"
   ]
  },
  {
   "cell_type": "markdown",
   "metadata": {},
   "source": [
    "### A rough look at our data"
   ]
  },
  {
   "cell_type": "code",
   "execution_count": 8,
   "metadata": {},
   "outputs": [
    {
     "data": {
      "text/html": [
       "<div>\n",
       "<style scoped>\n",
       "    .dataframe tbody tr th:only-of-type {\n",
       "        vertical-align: middle;\n",
       "    }\n",
       "\n",
       "    .dataframe tbody tr th {\n",
       "        vertical-align: top;\n",
       "    }\n",
       "\n",
       "    .dataframe thead th {\n",
       "        text-align: right;\n",
       "    }\n",
       "</style>\n",
       "<table border=\"1\" class=\"dataframe\">\n",
       "  <thead>\n",
       "    <tr style=\"text-align: right;\">\n",
       "      <th></th>\n",
       "      <th>Unnamed: 0</th>\n",
       "      <th>Seasons</th>\n",
       "      <th>Age</th>\n",
       "      <th>Club</th>\n",
       "      <th>League Rank</th>\n",
       "      <th>Matches Played</th>\n",
       "      <th>Matches Started by CR7</th>\n",
       "      <th>Minutes</th>\n",
       "      <th>Goals</th>\n",
       "      <th>Assists</th>\n",
       "      <th>Penalty Goals</th>\n",
       "      <th>Penalties Attempted</th>\n",
       "      <th>Yellow Cards</th>\n",
       "      <th>Red Cards</th>\n",
       "      <th>Goals per 90min</th>\n",
       "    </tr>\n",
       "  </thead>\n",
       "  <tbody>\n",
       "    <tr>\n",
       "      <th>0</th>\n",
       "      <td>0</td>\n",
       "      <td>2002-2003</td>\n",
       "      <td>17</td>\n",
       "      <td>Sporting CP</td>\n",
       "      <td>3rd</td>\n",
       "      <td>25</td>\n",
       "      <td>11</td>\n",
       "      <td>1,080</td>\n",
       "      <td>3</td>\n",
       "      <td>3</td>\n",
       "      <td>0</td>\n",
       "      <td>0</td>\n",
       "      <td>1</td>\n",
       "      <td>0</td>\n",
       "      <td>0.25</td>\n",
       "    </tr>\n",
       "    <tr>\n",
       "      <th>1</th>\n",
       "      <td>1</td>\n",
       "      <td>2003-2004</td>\n",
       "      <td>18</td>\n",
       "      <td>Manchester Utd</td>\n",
       "      <td>3rd</td>\n",
       "      <td>29</td>\n",
       "      <td>15</td>\n",
       "      <td>1,548</td>\n",
       "      <td>4</td>\n",
       "      <td>7</td>\n",
       "      <td>0</td>\n",
       "      <td>0</td>\n",
       "      <td>4</td>\n",
       "      <td>1</td>\n",
       "      <td>0.23</td>\n",
       "    </tr>\n",
       "    <tr>\n",
       "      <th>2</th>\n",
       "      <td>2</td>\n",
       "      <td>2004-2005</td>\n",
       "      <td>19</td>\n",
       "      <td>Manchester Utd</td>\n",
       "      <td>3rd</td>\n",
       "      <td>33</td>\n",
       "      <td>25</td>\n",
       "      <td>2,423</td>\n",
       "      <td>5</td>\n",
       "      <td>6</td>\n",
       "      <td>0</td>\n",
       "      <td>0</td>\n",
       "      <td>4</td>\n",
       "      <td>0</td>\n",
       "      <td>0.19</td>\n",
       "    </tr>\n",
       "    <tr>\n",
       "      <th>3</th>\n",
       "      <td>3</td>\n",
       "      <td>2005-2006</td>\n",
       "      <td>20</td>\n",
       "      <td>Manchester Utd</td>\n",
       "      <td>2nd</td>\n",
       "      <td>33</td>\n",
       "      <td>24</td>\n",
       "      <td>2,286</td>\n",
       "      <td>9</td>\n",
       "      <td>6</td>\n",
       "      <td>0</td>\n",
       "      <td>0</td>\n",
       "      <td>8</td>\n",
       "      <td>1</td>\n",
       "      <td>0.35</td>\n",
       "    </tr>\n",
       "    <tr>\n",
       "      <th>4</th>\n",
       "      <td>4</td>\n",
       "      <td>2006-2007</td>\n",
       "      <td>21</td>\n",
       "      <td>Manchester Utd</td>\n",
       "      <td>1st</td>\n",
       "      <td>34</td>\n",
       "      <td>31</td>\n",
       "      <td>2,794</td>\n",
       "      <td>17</td>\n",
       "      <td>13</td>\n",
       "      <td>3</td>\n",
       "      <td>4</td>\n",
       "      <td>2</td>\n",
       "      <td>0</td>\n",
       "      <td>0.55</td>\n",
       "    </tr>\n",
       "  </tbody>\n",
       "</table>\n",
       "</div>"
      ],
      "text/plain": [
       "   Unnamed: 0    Seasons  Age            Club League Rank  Matches Played  \\\n",
       "0           0  2002-2003   17     Sporting CP         3rd              25   \n",
       "1           1  2003-2004   18  Manchester Utd         3rd              29   \n",
       "2           2  2004-2005   19  Manchester Utd         3rd              33   \n",
       "3           3  2005-2006   20  Manchester Utd         2nd              33   \n",
       "4           4  2006-2007   21  Manchester Utd         1st              34   \n",
       "\n",
       "   Matches Started by CR7 Minutes  Goals  Assists  Penalty Goals  \\\n",
       "0                      11   1,080      3        3              0   \n",
       "1                      15   1,548      4        7              0   \n",
       "2                      25   2,423      5        6              0   \n",
       "3                      24   2,286      9        6              0   \n",
       "4                      31   2,794     17       13              3   \n",
       "\n",
       "   Penalties Attempted  Yellow Cards  Red Cards  Goals per 90min  \n",
       "0                    0             1          0             0.25  \n",
       "1                    0             4          1             0.23  \n",
       "2                    0             4          0             0.19  \n",
       "3                    0             8          1             0.35  \n",
       "4                    4             2          0             0.55  "
      ]
     },
     "execution_count": 8,
     "metadata": {},
     "output_type": "execute_result"
    }
   ],
   "source": [
    "ronaldo_data.head()"
   ]
  },
  {
   "cell_type": "markdown",
   "metadata": {},
   "source": [
    "#### I want to rearrange my data frame"
   ]
  },
  {
   "cell_type": "code",
   "execution_count": 9,
   "metadata": {},
   "outputs": [],
   "source": [
    "ronaldo_data.index = ronaldo_data.index + 1"
   ]
  },
  {
   "cell_type": "code",
   "execution_count": 10,
   "metadata": {},
   "outputs": [],
   "source": [
    "ronaldo_data = ronaldo_data.drop(columns = \"Unnamed: 0\")"
   ]
  },
  {
   "cell_type": "markdown",
   "metadata": {},
   "source": [
    "## Our Data Frame"
   ]
  },
  {
   "cell_type": "code",
   "execution_count": 23,
   "metadata": {},
   "outputs": [
    {
     "data": {
      "text/html": [
       "<div>\n",
       "<style scoped>\n",
       "    .dataframe tbody tr th:only-of-type {\n",
       "        vertical-align: middle;\n",
       "    }\n",
       "\n",
       "    .dataframe tbody tr th {\n",
       "        vertical-align: top;\n",
       "    }\n",
       "\n",
       "    .dataframe thead th {\n",
       "        text-align: right;\n",
       "    }\n",
       "</style>\n",
       "<table border=\"1\" class=\"dataframe\">\n",
       "  <thead>\n",
       "    <tr style=\"text-align: right;\">\n",
       "      <th></th>\n",
       "      <th>Seasons</th>\n",
       "      <th>Age</th>\n",
       "      <th>Club</th>\n",
       "      <th>League Rank</th>\n",
       "      <th>Matches Played</th>\n",
       "      <th>Matches Started by CR7</th>\n",
       "      <th>Minutes</th>\n",
       "      <th>Goals</th>\n",
       "      <th>Assists</th>\n",
       "      <th>Penalty Goals</th>\n",
       "      <th>Penalties Attempted</th>\n",
       "      <th>Yellow Cards</th>\n",
       "      <th>Red Cards</th>\n",
       "      <th>Goals per 90min</th>\n",
       "    </tr>\n",
       "  </thead>\n",
       "  <tbody>\n",
       "    <tr>\n",
       "      <th>1</th>\n",
       "      <td>2002-2003</td>\n",
       "      <td>17</td>\n",
       "      <td>Sporting CP</td>\n",
       "      <td>3rd</td>\n",
       "      <td>25</td>\n",
       "      <td>11</td>\n",
       "      <td>1,080</td>\n",
       "      <td>3</td>\n",
       "      <td>3</td>\n",
       "      <td>0</td>\n",
       "      <td>0</td>\n",
       "      <td>1</td>\n",
       "      <td>0</td>\n",
       "      <td>0.25</td>\n",
       "    </tr>\n",
       "    <tr>\n",
       "      <th>2</th>\n",
       "      <td>2003-2004</td>\n",
       "      <td>18</td>\n",
       "      <td>Manchester Utd</td>\n",
       "      <td>3rd</td>\n",
       "      <td>29</td>\n",
       "      <td>15</td>\n",
       "      <td>1,548</td>\n",
       "      <td>4</td>\n",
       "      <td>7</td>\n",
       "      <td>0</td>\n",
       "      <td>0</td>\n",
       "      <td>4</td>\n",
       "      <td>1</td>\n",
       "      <td>0.23</td>\n",
       "    </tr>\n",
       "    <tr>\n",
       "      <th>3</th>\n",
       "      <td>2004-2005</td>\n",
       "      <td>19</td>\n",
       "      <td>Manchester Utd</td>\n",
       "      <td>3rd</td>\n",
       "      <td>33</td>\n",
       "      <td>25</td>\n",
       "      <td>2,423</td>\n",
       "      <td>5</td>\n",
       "      <td>6</td>\n",
       "      <td>0</td>\n",
       "      <td>0</td>\n",
       "      <td>4</td>\n",
       "      <td>0</td>\n",
       "      <td>0.19</td>\n",
       "    </tr>\n",
       "    <tr>\n",
       "      <th>4</th>\n",
       "      <td>2005-2006</td>\n",
       "      <td>20</td>\n",
       "      <td>Manchester Utd</td>\n",
       "      <td>2nd</td>\n",
       "      <td>33</td>\n",
       "      <td>24</td>\n",
       "      <td>2,286</td>\n",
       "      <td>9</td>\n",
       "      <td>6</td>\n",
       "      <td>0</td>\n",
       "      <td>0</td>\n",
       "      <td>8</td>\n",
       "      <td>1</td>\n",
       "      <td>0.35</td>\n",
       "    </tr>\n",
       "    <tr>\n",
       "      <th>5</th>\n",
       "      <td>2006-2007</td>\n",
       "      <td>21</td>\n",
       "      <td>Manchester Utd</td>\n",
       "      <td>1st</td>\n",
       "      <td>34</td>\n",
       "      <td>31</td>\n",
       "      <td>2,794</td>\n",
       "      <td>17</td>\n",
       "      <td>13</td>\n",
       "      <td>3</td>\n",
       "      <td>4</td>\n",
       "      <td>2</td>\n",
       "      <td>0</td>\n",
       "      <td>0.55</td>\n",
       "    </tr>\n",
       "    <tr>\n",
       "      <th>6</th>\n",
       "      <td>2007-2008</td>\n",
       "      <td>22</td>\n",
       "      <td>Manchester Utd</td>\n",
       "      <td>1st</td>\n",
       "      <td>34</td>\n",
       "      <td>31</td>\n",
       "      <td>2,747</td>\n",
       "      <td>31</td>\n",
       "      <td>6</td>\n",
       "      <td>4</td>\n",
       "      <td>5</td>\n",
       "      <td>5</td>\n",
       "      <td>1</td>\n",
       "      <td>1.02</td>\n",
       "    </tr>\n",
       "    <tr>\n",
       "      <th>7</th>\n",
       "      <td>2008-2009</td>\n",
       "      <td>23</td>\n",
       "      <td>Manchester Utd</td>\n",
       "      <td>1st</td>\n",
       "      <td>33</td>\n",
       "      <td>31</td>\n",
       "      <td>2,743</td>\n",
       "      <td>18</td>\n",
       "      <td>6</td>\n",
       "      <td>4</td>\n",
       "      <td>4</td>\n",
       "      <td>6</td>\n",
       "      <td>1</td>\n",
       "      <td>0.59</td>\n",
       "    </tr>\n",
       "    <tr>\n",
       "      <th>8</th>\n",
       "      <td>2009-2010</td>\n",
       "      <td>24</td>\n",
       "      <td>Real Madrid</td>\n",
       "      <td>2nd</td>\n",
       "      <td>29</td>\n",
       "      <td>28</td>\n",
       "      <td>2,461</td>\n",
       "      <td>26</td>\n",
       "      <td>7</td>\n",
       "      <td>4</td>\n",
       "      <td>5</td>\n",
       "      <td>4</td>\n",
       "      <td>2</td>\n",
       "      <td>0.95</td>\n",
       "    </tr>\n",
       "    <tr>\n",
       "      <th>9</th>\n",
       "      <td>2010-2011</td>\n",
       "      <td>25</td>\n",
       "      <td>Real Madrid</td>\n",
       "      <td>2nd</td>\n",
       "      <td>34</td>\n",
       "      <td>32</td>\n",
       "      <td>2,914</td>\n",
       "      <td>40</td>\n",
       "      <td>9</td>\n",
       "      <td>8</td>\n",
       "      <td>8</td>\n",
       "      <td>2</td>\n",
       "      <td>0</td>\n",
       "      <td>1.24</td>\n",
       "    </tr>\n",
       "    <tr>\n",
       "      <th>10</th>\n",
       "      <td>2011-2012</td>\n",
       "      <td>26</td>\n",
       "      <td>Real Madrid</td>\n",
       "      <td>1st</td>\n",
       "      <td>38</td>\n",
       "      <td>37</td>\n",
       "      <td>3,350</td>\n",
       "      <td>46</td>\n",
       "      <td>12</td>\n",
       "      <td>12</td>\n",
       "      <td>13</td>\n",
       "      <td>4</td>\n",
       "      <td>0</td>\n",
       "      <td>1.24</td>\n",
       "    </tr>\n",
       "    <tr>\n",
       "      <th>11</th>\n",
       "      <td>2012-2013</td>\n",
       "      <td>27</td>\n",
       "      <td>Real Madrid</td>\n",
       "      <td>2nd</td>\n",
       "      <td>34</td>\n",
       "      <td>30</td>\n",
       "      <td>2,716</td>\n",
       "      <td>34</td>\n",
       "      <td>10</td>\n",
       "      <td>6</td>\n",
       "      <td>7</td>\n",
       "      <td>9</td>\n",
       "      <td>0</td>\n",
       "      <td>1.13</td>\n",
       "    </tr>\n",
       "    <tr>\n",
       "      <th>12</th>\n",
       "      <td>2013-2014</td>\n",
       "      <td>28</td>\n",
       "      <td>Real Madrid</td>\n",
       "      <td>3rd</td>\n",
       "      <td>30</td>\n",
       "      <td>30</td>\n",
       "      <td>2,534</td>\n",
       "      <td>31</td>\n",
       "      <td>9</td>\n",
       "      <td>6</td>\n",
       "      <td>6</td>\n",
       "      <td>4</td>\n",
       "      <td>1</td>\n",
       "      <td>1.10</td>\n",
       "    </tr>\n",
       "    <tr>\n",
       "      <th>13</th>\n",
       "      <td>2014-2015</td>\n",
       "      <td>29</td>\n",
       "      <td>Real Madrid</td>\n",
       "      <td>2nd</td>\n",
       "      <td>35</td>\n",
       "      <td>35</td>\n",
       "      <td>3,100</td>\n",
       "      <td>48</td>\n",
       "      <td>16</td>\n",
       "      <td>10</td>\n",
       "      <td>12</td>\n",
       "      <td>5</td>\n",
       "      <td>1</td>\n",
       "      <td>1.39</td>\n",
       "    </tr>\n",
       "    <tr>\n",
       "      <th>14</th>\n",
       "      <td>2015-2016</td>\n",
       "      <td>30</td>\n",
       "      <td>Real Madrid</td>\n",
       "      <td>2nd</td>\n",
       "      <td>36</td>\n",
       "      <td>36</td>\n",
       "      <td>3,182</td>\n",
       "      <td>35</td>\n",
       "      <td>11</td>\n",
       "      <td>6</td>\n",
       "      <td>9</td>\n",
       "      <td>3</td>\n",
       "      <td>0</td>\n",
       "      <td>0.99</td>\n",
       "    </tr>\n",
       "    <tr>\n",
       "      <th>15</th>\n",
       "      <td>2016-2017</td>\n",
       "      <td>31</td>\n",
       "      <td>Real Madrid</td>\n",
       "      <td>1st</td>\n",
       "      <td>29</td>\n",
       "      <td>29</td>\n",
       "      <td>2,537</td>\n",
       "      <td>25</td>\n",
       "      <td>6</td>\n",
       "      <td>6</td>\n",
       "      <td>7</td>\n",
       "      <td>4</td>\n",
       "      <td>0</td>\n",
       "      <td>0.89</td>\n",
       "    </tr>\n",
       "    <tr>\n",
       "      <th>16</th>\n",
       "      <td>2017-2018</td>\n",
       "      <td>32</td>\n",
       "      <td>Real Madrid</td>\n",
       "      <td>3rd</td>\n",
       "      <td>27</td>\n",
       "      <td>27</td>\n",
       "      <td>2,288</td>\n",
       "      <td>26</td>\n",
       "      <td>5</td>\n",
       "      <td>3</td>\n",
       "      <td>4</td>\n",
       "      <td>1</td>\n",
       "      <td>0</td>\n",
       "      <td>1.02</td>\n",
       "    </tr>\n",
       "    <tr>\n",
       "      <th>17</th>\n",
       "      <td>2018-2019</td>\n",
       "      <td>33</td>\n",
       "      <td>Juventus</td>\n",
       "      <td>1st</td>\n",
       "      <td>31</td>\n",
       "      <td>30</td>\n",
       "      <td>2,688</td>\n",
       "      <td>21</td>\n",
       "      <td>8</td>\n",
       "      <td>5</td>\n",
       "      <td>6</td>\n",
       "      <td>3</td>\n",
       "      <td>0</td>\n",
       "      <td>0.70</td>\n",
       "    </tr>\n",
       "    <tr>\n",
       "      <th>18</th>\n",
       "      <td>2019-2020</td>\n",
       "      <td>34</td>\n",
       "      <td>Juventus</td>\n",
       "      <td>1st</td>\n",
       "      <td>33</td>\n",
       "      <td>33</td>\n",
       "      <td>2,917</td>\n",
       "      <td>31</td>\n",
       "      <td>5</td>\n",
       "      <td>12</td>\n",
       "      <td>13</td>\n",
       "      <td>3</td>\n",
       "      <td>0</td>\n",
       "      <td>0.96</td>\n",
       "    </tr>\n",
       "  </tbody>\n",
       "</table>\n",
       "</div>"
      ],
      "text/plain": [
       "      Seasons  Age            Club League Rank  Matches Played  \\\n",
       "1   2002-2003   17     Sporting CP         3rd              25   \n",
       "2   2003-2004   18  Manchester Utd         3rd              29   \n",
       "3   2004-2005   19  Manchester Utd         3rd              33   \n",
       "4   2005-2006   20  Manchester Utd         2nd              33   \n",
       "5   2006-2007   21  Manchester Utd         1st              34   \n",
       "6   2007-2008   22  Manchester Utd         1st              34   \n",
       "7   2008-2009   23  Manchester Utd         1st              33   \n",
       "8   2009-2010   24     Real Madrid         2nd              29   \n",
       "9   2010-2011   25     Real Madrid         2nd              34   \n",
       "10  2011-2012   26     Real Madrid         1st              38   \n",
       "11  2012-2013   27     Real Madrid         2nd              34   \n",
       "12  2013-2014   28     Real Madrid         3rd              30   \n",
       "13  2014-2015   29     Real Madrid         2nd              35   \n",
       "14  2015-2016   30     Real Madrid         2nd              36   \n",
       "15  2016-2017   31     Real Madrid         1st              29   \n",
       "16  2017-2018   32     Real Madrid         3rd              27   \n",
       "17  2018-2019   33        Juventus         1st              31   \n",
       "18  2019-2020   34        Juventus         1st              33   \n",
       "\n",
       "    Matches Started by CR7 Minutes  Goals  Assists  Penalty Goals  \\\n",
       "1                       11   1,080      3        3              0   \n",
       "2                       15   1,548      4        7              0   \n",
       "3                       25   2,423      5        6              0   \n",
       "4                       24   2,286      9        6              0   \n",
       "5                       31   2,794     17       13              3   \n",
       "6                       31   2,747     31        6              4   \n",
       "7                       31   2,743     18        6              4   \n",
       "8                       28   2,461     26        7              4   \n",
       "9                       32   2,914     40        9              8   \n",
       "10                      37   3,350     46       12             12   \n",
       "11                      30   2,716     34       10              6   \n",
       "12                      30   2,534     31        9              6   \n",
       "13                      35   3,100     48       16             10   \n",
       "14                      36   3,182     35       11              6   \n",
       "15                      29   2,537     25        6              6   \n",
       "16                      27   2,288     26        5              3   \n",
       "17                      30   2,688     21        8              5   \n",
       "18                      33   2,917     31        5             12   \n",
       "\n",
       "    Penalties Attempted  Yellow Cards  Red Cards  Goals per 90min  \n",
       "1                     0             1          0             0.25  \n",
       "2                     0             4          1             0.23  \n",
       "3                     0             4          0             0.19  \n",
       "4                     0             8          1             0.35  \n",
       "5                     4             2          0             0.55  \n",
       "6                     5             5          1             1.02  \n",
       "7                     4             6          1             0.59  \n",
       "8                     5             4          2             0.95  \n",
       "9                     8             2          0             1.24  \n",
       "10                   13             4          0             1.24  \n",
       "11                    7             9          0             1.13  \n",
       "12                    6             4          1             1.10  \n",
       "13                   12             5          1             1.39  \n",
       "14                    9             3          0             0.99  \n",
       "15                    7             4          0             0.89  \n",
       "16                    4             1          0             1.02  \n",
       "17                    6             3          0             0.70  \n",
       "18                   13             3          0             0.96  "
      ]
     },
     "execution_count": 23,
     "metadata": {},
     "output_type": "execute_result"
    }
   ],
   "source": [
    "ronaldo_data\n",
    "# Now it looks better"
   ]
  },
  {
   "cell_type": "markdown",
   "metadata": {},
   "source": [
    "## Let's See How Was His League Career So Far"
   ]
  },
  {
   "cell_type": "code",
   "execution_count": 45,
   "metadata": {},
   "outputs": [
    {
     "data": {
      "image/png": "[encoded data removed]",
      "text/plain": [
       "<Figure size 432x288 with 1 Axes>"
      ]
     },
     "metadata": {
      "needs_background": "light"
     },
     "output_type": "display_data"
    }
   ],
   "source": [
    "# Correlation between his age and the number of goals:\n",
    "plt.plot(ronaldo_data[\"Age\"], ronaldo_data[\"Goals\"])\n",
    "plt.xticks(ronaldo_data[\"Age\"])\n",
    "plt.grid()\n",
    "plt.show()"
   ]
  },
  {
   "cell_type": "code",
   "execution_count": 176,
   "metadata": {},
   "outputs": [
    {
     "data": {
      "image/png": "[encoded data removed]",
      "text/plain": [
       "<Figure size 432x288 with 1 Axes>"
      ]
     },
     "metadata": {
      "needs_background": "light"
     },
     "output_type": "display_data"
    }
   ],
   "source": [
    "plt.plot(ronaldo_data[\"Age\"], ronaldo_data[\"Goals per 90min\"])\n",
    "plt.xticks(ronaldo_data[\"Age\"])\n",
    "plt.grid()\n",
    "plt.show()\n",
    "# Similar to the upper graph\n",
    "# It should be scary for the rival to know that Ronaldo will score at least 1 goal in the match "
   ]
  },
  {
   "cell_type": "markdown",
   "metadata": {},
   "source": [
    "### Let's check his performances with respect to the clubs"
   ]
  },
  {
   "cell_type": "code",
   "execution_count": 188,
   "metadata": {},
   "outputs": [],
   "source": [
    "group_data = ronaldo_data.groupby(['Club']).sum()\n",
    "group_data = group_data.drop(columns = \"Age\")"
   ]
  },
  {
   "cell_type": "code",
   "execution_count": 189,
   "metadata": {},
   "outputs": [
    {
     "data": {
      "text/html": [
       "<div>\n",
       "<style scoped>\n",
       "    .dataframe tbody tr th:only-of-type {\n",
       "        vertical-align: middle;\n",
       "    }\n",
       "\n",
       "    .dataframe tbody tr th {\n",
       "        vertical-align: top;\n",
       "    }\n",
       "\n",
       "    .dataframe thead th {\n",
       "        text-align: right;\n",
       "    }\n",
       "</style>\n",
       "<table border=\"1\" class=\"dataframe\">\n",
       "  <thead>\n",
       "    <tr style=\"text-align: right;\">\n",
       "      <th></th>\n",
       "      <th>Matches Played</th>\n",
       "      <th>Matches Started by CR7</th>\n",
       "      <th>Goals</th>\n",
       "      <th>Assists</th>\n",
       "      <th>Penalty Goals</th>\n",
       "      <th>Penalties Attempted</th>\n",
       "      <th>Yellow Cards</th>\n",
       "      <th>Red Cards</th>\n",
       "      <th>Goals per 90min</th>\n",
       "    </tr>\n",
       "    <tr>\n",
       "      <th>Club</th>\n",
       "      <th></th>\n",
       "      <th></th>\n",
       "      <th></th>\n",
       "      <th></th>\n",
       "      <th></th>\n",
       "      <th></th>\n",
       "      <th></th>\n",
       "      <th></th>\n",
       "      <th></th>\n",
       "    </tr>\n",
       "  </thead>\n",
       "  <tbody>\n",
       "    <tr>\n",
       "      <th>Juventus</th>\n",
       "      <td>64</td>\n",
       "      <td>63</td>\n",
       "      <td>52</td>\n",
       "      <td>13</td>\n",
       "      <td>17</td>\n",
       "      <td>19</td>\n",
       "      <td>6</td>\n",
       "      <td>0</td>\n",
       "      <td>1.66</td>\n",
       "    </tr>\n",
       "    <tr>\n",
       "      <th>Manchester Utd</th>\n",
       "      <td>196</td>\n",
       "      <td>157</td>\n",
       "      <td>84</td>\n",
       "      <td>44</td>\n",
       "      <td>11</td>\n",
       "      <td>13</td>\n",
       "      <td>29</td>\n",
       "      <td>4</td>\n",
       "      <td>2.93</td>\n",
       "    </tr>\n",
       "    <tr>\n",
       "      <th>Real Madrid</th>\n",
       "      <td>292</td>\n",
       "      <td>284</td>\n",
       "      <td>311</td>\n",
       "      <td>85</td>\n",
       "      <td>61</td>\n",
       "      <td>71</td>\n",
       "      <td>36</td>\n",
       "      <td>4</td>\n",
       "      <td>9.95</td>\n",
       "    </tr>\n",
       "    <tr>\n",
       "      <th>Sporting CP</th>\n",
       "      <td>25</td>\n",
       "      <td>11</td>\n",
       "      <td>3</td>\n",
       "      <td>3</td>\n",
       "      <td>0</td>\n",
       "      <td>0</td>\n",
       "      <td>1</td>\n",
       "      <td>0</td>\n",
       "      <td>0.25</td>\n",
       "    </tr>\n",
       "  </tbody>\n",
       "</table>\n",
       "</div>"
      ],
      "text/plain": [
       "                Matches Played  Matches Started by CR7  Goals  Assists  \\\n",
       "Club                                                                     \n",
       "Juventus                    64                      63     52       13   \n",
       "Manchester Utd             196                     157     84       44   \n",
       "Real Madrid                292                     284    311       85   \n",
       "Sporting CP                 25                      11      3        3   \n",
       "\n",
       "                Penalty Goals  Penalties Attempted  Yellow Cards  Red Cards  \\\n",
       "Club                                                                          \n",
       "Juventus                   17                   19             6          0   \n",
       "Manchester Utd             11                   13            29          4   \n",
       "Real Madrid                61                   71            36          4   \n",
       "Sporting CP                 0                    0             1          0   \n",
       "\n",
       "                Goals per 90min  \n",
       "Club                             \n",
       "Juventus                   1.66  \n",
       "Manchester Utd             2.93  \n",
       "Real Madrid                9.95  \n",
       "Sporting CP                0.25  "
      ]
     },
     "execution_count": 189,
     "metadata": {},
     "output_type": "execute_result"
    }
   ],
   "source": [
    "group_data"
   ]
  },
  {
   "cell_type": "code",
   "execution_count": 152,
   "metadata": {},
   "outputs": [
    {
     "data": {
      "image/png": "[encoded data removed]",
      "text/plain": [
       "<Figure size 432x288 with 1 Axes>"
      ]
     },
     "metadata": {
      "needs_background": "light"
     },
     "output_type": "display_data"
    }
   ],
   "source": [
    "clubs = [club for club in grouped_data.index]\n",
    "\n",
    "plt.bar(clubs,ronaldo_data.groupby(['Club']).sum()['Goals'])\n",
    "plt.xticks(clubs)\n",
    "plt.ylabel('Goals')\n",
    "plt.xlabel('Clubs')\n",
    "plt.show()"
   ]
  },
  {
   "cell_type": "code",
   "execution_count": 179,
   "metadata": {},
   "outputs": [
    {
     "data": {
      "image/png": "[encoded data removed]",
      "text/plain": [
       "<Figure size 432x288 with 1 Axes>"
      ]
     },
     "metadata": {
      "needs_background": "light"
     },
     "output_type": "display_data"
    }
   ],
   "source": [
    "plt.bar(clubs,ronaldo_data.groupby(['Club']).sum()['Assists'])\n",
    "plt.xticks(clubs)\n",
    "plt.ylabel('Assists')\n",
    "plt.xlabel('Clubs')\n",
    "plt.show()"
   ]
  },
  {
   "cell_type": "markdown",
   "metadata": {},
   "source": [
    "### Let's use linear regression model to have an idea about the number of goals he will score"
   ]
  },
  {
   "cell_type": "code",
   "execution_count": 13,
   "metadata": {},
   "outputs": [],
   "source": [
    "m, b = np.polyfit(ronaldo_data[\"Age\"], ronaldo_data[\"Goals\"], 1)"
   ]
  },
  {
   "cell_type": "code",
   "execution_count": 14,
   "metadata": {},
   "outputs": [
    {
     "data": {
      "text/plain": [
       "[<matplotlib.lines.Line2D at 0x1bcd90738c8>]"
      ]
     },
     "execution_count": 14,
     "metadata": {},
     "output_type": "execute_result"
    },
    {
     "data": {
      "image/png": "[encoded data removed]",
      "text/plain": [
       "<Figure size 432x288 with 1 Axes>"
      ]
     },
     "metadata": {
      "needs_background": "light"
     },
     "output_type": "display_data"
    }
   ],
   "source": [
    "plt.xticks(ronaldo_data[\"Age\"])\n",
    "plt.plot(ronaldo_data[\"Age\"], ronaldo_data[\"Goals\"], 'o')\n",
    "plt.plot(ronaldo_data[\"Age\"], m*ronaldo_data[\"Age\"] + b)"
   ]
  },
  {
   "cell_type": "markdown",
   "metadata": {},
   "source": [
    "### Let's use the same to have an idea about the number of assists"
   ]
  },
  {
   "cell_type": "code",
   "execution_count": 178,
   "metadata": {},
   "outputs": [
    {
     "data": {
      "text/plain": [
       "[<matplotlib.lines.Line2D at 0x1bcef1d3a48>]"
      ]
     },
     "execution_count": 178,
     "metadata": {},
     "output_type": "execute_result"
    },
    {
     "data": {
      "image/png": "[encoded data removed]",
      "text/plain": [
       "<Figure size 432x288 with 1 Axes>"
      ]
     },
     "metadata": {
      "needs_background": "light"
     },
     "output_type": "display_data"
    }
   ],
   "source": [
    "m, b = np.polyfit(ronaldo_data[\"Age\"], ronaldo_data[\"Assists\"], 1)\n",
    "plt.xticks(ronaldo_data[\"Age\"])\n",
    "plt.plot(ronaldo_data[\"Age\"], ronaldo_data[\"Assists\"], 'o')\n",
    "plt.plot(ronaldo_data[\"Age\"], m*ronaldo_data[\"Age\"] + b)"
   ]
  },
  {
   "cell_type": "markdown",
   "metadata": {},
   "source": [
    "### Linear Regression With Marginal Distributions"
   ]
  },
  {
   "cell_type": "code",
   "execution_count": 21,
   "metadata": {},
   "outputs": [
    {
     "data": {
      "text/plain": [
       "<seaborn.axisgrid.JointGrid at 0x1bce1255388>"
      ]
     },
     "execution_count": 21,
     "metadata": {},
     "output_type": "execute_result"
    },
    {
     "data": {
      "image/png": "[encoded data removed]",
      "text/plain": [
       "<Figure size 504x504 with 3 Axes>"
      ]
     },
     "metadata": {
      "needs_background": "light"
     },
     "output_type": "display_data"
    }
   ],
   "source": [
    "sns.jointplot(x=\"Goals\", y=\"Assists\", data=ronaldo_data,\n",
    "                  kind=\"reg\", truncate = False,\n",
    "                  color=\"m\", height=7)\n",
    "# It can be seen that the season when he scored the highest number of his goals, his number of assists is the highest of his career"
   ]
  }
 ],
 "metadata": {
  "kernelspec": {
   "display_name": "Python 3",
   "language": "python",
   "name": "python3"
  },
  "language_info": {
   "codemirror_mode": {
    "name": "ipython",
    "version": 3
   },
   "file_extension": ".py",
   "mimetype": "text/x-python",
   "name": "python",
   "nbconvert_exporter": "python",
   "pygments_lexer": "ipython3",
   "version": "3.7.6"
  }
 },
 "nbformat": 4,
 "nbformat_minor": 4
}
