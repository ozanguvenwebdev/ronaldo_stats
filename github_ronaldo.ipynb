{
 "cells": [
  {
   "cell_type": "markdown",
   "metadata": {},
   "source": [
    "# Analysing Data"
   ]
  },
  {
   "cell_type": "markdown",
   "metadata": {},
   "source": [
    "### Arranging Our Data Frame "
   ]
  },
  {
   "cell_type": "code",
   "execution_count": 2,
   "metadata": {},
   "outputs": [],
   "source": [
    "import os\n",
    "import pandas as pd\n",
    "import numpy as np\n",
    "import matplotlib.pyplot as plt\n",
    "import seaborn as sns\n",
    "import math\n",
    "import matplotlib.ticker as ticker\n",
    "import statsmodels.api as sm\n",
    "import seaborn as sns\n",
    "from sklearn.linear_model import LinearRegression\n",
    "sns.set()"
   ]
  },
  {
   "cell_type": "code",
   "execution_count": 3,
   "metadata": {},
   "outputs": [],
   "source": [
    "ronaldo_data = pd.read_csv(\"C:/Users/pc/Desktop/Ronaldo_Statistics_Github\")"
   ]
  },
  {
   "cell_type": "code",
   "execution_count": 4,
   "metadata": {},
   "outputs": [
    {
     "data": {
      "text/html": [
       "<div>\n",
       "<style scoped>\n",
       "    .dataframe tbody tr th:only-of-type {\n",
       "        vertical-align: middle;\n",
       "    }\n",
       "\n",
       "    .dataframe tbody tr th {\n",
       "        vertical-align: top;\n",
       "    }\n",
       "\n",
       "    .dataframe thead th {\n",
       "        text-align: right;\n",
       "    }\n",
       "</style>\n",
       "<table border=\"1\" class=\"dataframe\">\n",
       "  <thead>\n",
       "    <tr style=\"text-align: right;\">\n",
       "      <th></th>\n",
       "      <th>Unnamed: 0</th>\n",
       "      <th>Seasons</th>\n",
       "      <th>Age</th>\n",
       "      <th>Club</th>\n",
       "      <th>League Rank</th>\n",
       "      <th>Matches Played</th>\n",
       "      <th>Matches Started by CR7</th>\n",
       "      <th>Minutes</th>\n",
       "      <th>Goals</th>\n",
       "      <th>Assists</th>\n",
       "      <th>Penalty Goals</th>\n",
       "      <th>Penalties Attempted</th>\n",
       "      <th>Yellow Cards</th>\n",
       "      <th>Red Cards</th>\n",
       "      <th>Goals per 90min</th>\n",
       "    </tr>\n",
       "  </thead>\n",
       "  <tbody>\n",
       "    <tr>\n",
       "      <th>0</th>\n",
       "      <td>0</td>\n",
       "      <td>2002-2003</td>\n",
       "      <td>17</td>\n",
       "      <td>Sporting CP</td>\n",
       "      <td>3rd</td>\n",
       "      <td>25</td>\n",
       "      <td>11</td>\n",
       "      <td>1,080</td>\n",
       "      <td>3</td>\n",
       "      <td>3</td>\n",
       "      <td>0</td>\n",
       "      <td>0</td>\n",
       "      <td>1</td>\n",
       "      <td>0</td>\n",
       "      <td>0.25</td>\n",
       "    </tr>\n",
       "    <tr>\n",
       "      <th>1</th>\n",
       "      <td>1</td>\n",
       "      <td>2003-2004</td>\n",
       "      <td>18</td>\n",
       "      <td>Manchester Utd</td>\n",
       "      <td>3rd</td>\n",
       "      <td>29</td>\n",
       "      <td>15</td>\n",
       "      <td>1,548</td>\n",
       "      <td>4</td>\n",
       "      <td>7</td>\n",
       "      <td>0</td>\n",
       "      <td>0</td>\n",
       "      <td>4</td>\n",
       "      <td>1</td>\n",
       "      <td>0.23</td>\n",
       "    </tr>\n",
       "    <tr>\n",
       "      <th>2</th>\n",
       "      <td>2</td>\n",
       "      <td>2004-2005</td>\n",
       "      <td>19</td>\n",
       "      <td>Manchester Utd</td>\n",
       "      <td>3rd</td>\n",
       "      <td>33</td>\n",
       "      <td>25</td>\n",
       "      <td>2,423</td>\n",
       "      <td>5</td>\n",
       "      <td>6</td>\n",
       "      <td>0</td>\n",
       "      <td>0</td>\n",
       "      <td>4</td>\n",
       "      <td>0</td>\n",
       "      <td>0.19</td>\n",
       "    </tr>\n",
       "    <tr>\n",
       "      <th>3</th>\n",
       "      <td>3</td>\n",
       "      <td>2005-2006</td>\n",
       "      <td>20</td>\n",
       "      <td>Manchester Utd</td>\n",
       "      <td>2nd</td>\n",
       "      <td>33</td>\n",
       "      <td>24</td>\n",
       "      <td>2,286</td>\n",
       "      <td>9</td>\n",
       "      <td>6</td>\n",
       "      <td>0</td>\n",
       "      <td>0</td>\n",
       "      <td>8</td>\n",
       "      <td>1</td>\n",
       "      <td>0.35</td>\n",
       "    </tr>\n",
       "    <tr>\n",
       "      <th>4</th>\n",
       "      <td>4</td>\n",
       "      <td>2006-2007</td>\n",
       "      <td>21</td>\n",
       "      <td>Manchester Utd</td>\n",
       "      <td>1st</td>\n",
       "      <td>34</td>\n",
       "      <td>31</td>\n",
       "      <td>2,794</td>\n",
       "      <td>17</td>\n",
       "      <td>13</td>\n",
       "      <td>3</td>\n",
       "      <td>4</td>\n",
       "      <td>2</td>\n",
       "      <td>0</td>\n",
       "      <td>0.55</td>\n",
       "    </tr>\n",
       "  </tbody>\n",
       "</table>\n",
       "</div>"
      ],
      "text/plain": [
       "   Unnamed: 0    Seasons  Age            Club League Rank  Matches Played  \\\n",
       "0           0  2002-2003   17     Sporting CP         3rd              25   \n",
       "1           1  2003-2004   18  Manchester Utd         3rd              29   \n",
       "2           2  2004-2005   19  Manchester Utd         3rd              33   \n",
       "3           3  2005-2006   20  Manchester Utd         2nd              33   \n",
       "4           4  2006-2007   21  Manchester Utd         1st              34   \n",
       "\n",
       "   Matches Started by CR7 Minutes  Goals  Assists  Penalty Goals  \\\n",
       "0                      11   1,080      3        3              0   \n",
       "1                      15   1,548      4        7              0   \n",
       "2                      25   2,423      5        6              0   \n",
       "3                      24   2,286      9        6              0   \n",
       "4                      31   2,794     17       13              3   \n",
       "\n",
       "   Penalties Attempted  Yellow Cards  Red Cards  Goals per 90min  \n",
       "0                    0             1          0             0.25  \n",
       "1                    0             4          1             0.23  \n",
       "2                    0             4          0             0.19  \n",
       "3                    0             8          1             0.35  \n",
       "4                    4             2          0             0.55  "
      ]
     },
     "execution_count": 4,
     "metadata": {},
     "output_type": "execute_result"
    }
   ],
   "source": [
    "ronaldo_data.head()"
   ]
  },
  {
   "cell_type": "code",
   "execution_count": 5,
   "metadata": {},
   "outputs": [],
   "source": [
    "ronaldo_data.index = ronaldo_data.index + 1"
   ]
  },
  {
   "cell_type": "code",
   "execution_count": 6,
   "metadata": {},
   "outputs": [],
   "source": [
    "ronaldo_data = ronaldo_data.drop(columns = \"Unnamed: 0\")"
   ]
  },
  {
   "cell_type": "markdown",
   "metadata": {},
   "source": [
    "##  Data Frame"
   ]
  },
  {
   "cell_type": "code",
   "execution_count": 7,
   "metadata": {},
   "outputs": [
    {
     "data": {
      "text/html": [
       "<div>\n",
       "<style scoped>\n",
       "    .dataframe tbody tr th:only-of-type {\n",
       "        vertical-align: middle;\n",
       "    }\n",
       "\n",
       "    .dataframe tbody tr th {\n",
       "        vertical-align: top;\n",
       "    }\n",
       "\n",
       "    .dataframe thead th {\n",
       "        text-align: right;\n",
       "    }\n",
       "</style>\n",
       "<table border=\"1\" class=\"dataframe\">\n",
       "  <thead>\n",
       "    <tr style=\"text-align: right;\">\n",
       "      <th></th>\n",
       "      <th>Seasons</th>\n",
       "      <th>Age</th>\n",
       "      <th>Club</th>\n",
       "      <th>League Rank</th>\n",
       "      <th>Matches Played</th>\n",
       "      <th>Matches Started by CR7</th>\n",
       "      <th>Minutes</th>\n",
       "      <th>Goals</th>\n",
       "      <th>Assists</th>\n",
       "      <th>Penalty Goals</th>\n",
       "      <th>Penalties Attempted</th>\n",
       "      <th>Yellow Cards</th>\n",
       "      <th>Red Cards</th>\n",
       "      <th>Goals per 90min</th>\n",
       "    </tr>\n",
       "  </thead>\n",
       "  <tbody>\n",
       "    <tr>\n",
       "      <th>1</th>\n",
       "      <td>2002-2003</td>\n",
       "      <td>17</td>\n",
       "      <td>Sporting CP</td>\n",
       "      <td>3rd</td>\n",
       "      <td>25</td>\n",
       "      <td>11</td>\n",
       "      <td>1,080</td>\n",
       "      <td>3</td>\n",
       "      <td>3</td>\n",
       "      <td>0</td>\n",
       "      <td>0</td>\n",
       "      <td>1</td>\n",
       "      <td>0</td>\n",
       "      <td>0.25</td>\n",
       "    </tr>\n",
       "    <tr>\n",
       "      <th>2</th>\n",
       "      <td>2003-2004</td>\n",
       "      <td>18</td>\n",
       "      <td>Manchester Utd</td>\n",
       "      <td>3rd</td>\n",
       "      <td>29</td>\n",
       "      <td>15</td>\n",
       "      <td>1,548</td>\n",
       "      <td>4</td>\n",
       "      <td>7</td>\n",
       "      <td>0</td>\n",
       "      <td>0</td>\n",
       "      <td>4</td>\n",
       "      <td>1</td>\n",
       "      <td>0.23</td>\n",
       "    </tr>\n",
       "    <tr>\n",
       "      <th>3</th>\n",
       "      <td>2004-2005</td>\n",
       "      <td>19</td>\n",
       "      <td>Manchester Utd</td>\n",
       "      <td>3rd</td>\n",
       "      <td>33</td>\n",
       "      <td>25</td>\n",
       "      <td>2,423</td>\n",
       "      <td>5</td>\n",
       "      <td>6</td>\n",
       "      <td>0</td>\n",
       "      <td>0</td>\n",
       "      <td>4</td>\n",
       "      <td>0</td>\n",
       "      <td>0.19</td>\n",
       "    </tr>\n",
       "    <tr>\n",
       "      <th>4</th>\n",
       "      <td>2005-2006</td>\n",
       "      <td>20</td>\n",
       "      <td>Manchester Utd</td>\n",
       "      <td>2nd</td>\n",
       "      <td>33</td>\n",
       "      <td>24</td>\n",
       "      <td>2,286</td>\n",
       "      <td>9</td>\n",
       "      <td>6</td>\n",
       "      <td>0</td>\n",
       "      <td>0</td>\n",
       "      <td>8</td>\n",
       "      <td>1</td>\n",
       "      <td>0.35</td>\n",
       "    </tr>\n",
       "    <tr>\n",
       "      <th>5</th>\n",
       "      <td>2006-2007</td>\n",
       "      <td>21</td>\n",
       "      <td>Manchester Utd</td>\n",
       "      <td>1st</td>\n",
       "      <td>34</td>\n",
       "      <td>31</td>\n",
       "      <td>2,794</td>\n",
       "      <td>17</td>\n",
       "      <td>13</td>\n",
       "      <td>3</td>\n",
       "      <td>4</td>\n",
       "      <td>2</td>\n",
       "      <td>0</td>\n",
       "      <td>0.55</td>\n",
       "    </tr>\n",
       "    <tr>\n",
       "      <th>6</th>\n",
       "      <td>2007-2008</td>\n",
       "      <td>22</td>\n",
       "      <td>Manchester Utd</td>\n",
       "      <td>1st</td>\n",
       "      <td>34</td>\n",
       "      <td>31</td>\n",
       "      <td>2,747</td>\n",
       "      <td>31</td>\n",
       "      <td>6</td>\n",
       "      <td>4</td>\n",
       "      <td>5</td>\n",
       "      <td>5</td>\n",
       "      <td>1</td>\n",
       "      <td>1.02</td>\n",
       "    </tr>\n",
       "    <tr>\n",
       "      <th>7</th>\n",
       "      <td>2008-2009</td>\n",
       "      <td>23</td>\n",
       "      <td>Manchester Utd</td>\n",
       "      <td>1st</td>\n",
       "      <td>33</td>\n",
       "      <td>31</td>\n",
       "      <td>2,743</td>\n",
       "      <td>18</td>\n",
       "      <td>6</td>\n",
       "      <td>4</td>\n",
       "      <td>4</td>\n",
       "      <td>6</td>\n",
       "      <td>1</td>\n",
       "      <td>0.59</td>\n",
       "    </tr>\n",
       "    <tr>\n",
       "      <th>8</th>\n",
       "      <td>2009-2010</td>\n",
       "      <td>24</td>\n",
       "      <td>Real Madrid</td>\n",
       "      <td>2nd</td>\n",
       "      <td>29</td>\n",
       "      <td>28</td>\n",
       "      <td>2,461</td>\n",
       "      <td>26</td>\n",
       "      <td>7</td>\n",
       "      <td>4</td>\n",
       "      <td>5</td>\n",
       "      <td>4</td>\n",
       "      <td>2</td>\n",
       "      <td>0.95</td>\n",
       "    </tr>\n",
       "    <tr>\n",
       "      <th>9</th>\n",
       "      <td>2010-2011</td>\n",
       "      <td>25</td>\n",
       "      <td>Real Madrid</td>\n",
       "      <td>2nd</td>\n",
       "      <td>34</td>\n",
       "      <td>32</td>\n",
       "      <td>2,914</td>\n",
       "      <td>40</td>\n",
       "      <td>9</td>\n",
       "      <td>8</td>\n",
       "      <td>8</td>\n",
       "      <td>2</td>\n",
       "      <td>0</td>\n",
       "      <td>1.24</td>\n",
       "    </tr>\n",
       "    <tr>\n",
       "      <th>10</th>\n",
       "      <td>2011-2012</td>\n",
       "      <td>26</td>\n",
       "      <td>Real Madrid</td>\n",
       "      <td>1st</td>\n",
       "      <td>38</td>\n",
       "      <td>37</td>\n",
       "      <td>3,350</td>\n",
       "      <td>46</td>\n",
       "      <td>12</td>\n",
       "      <td>12</td>\n",
       "      <td>13</td>\n",
       "      <td>4</td>\n",
       "      <td>0</td>\n",
       "      <td>1.24</td>\n",
       "    </tr>\n",
       "    <tr>\n",
       "      <th>11</th>\n",
       "      <td>2012-2013</td>\n",
       "      <td>27</td>\n",
       "      <td>Real Madrid</td>\n",
       "      <td>2nd</td>\n",
       "      <td>34</td>\n",
       "      <td>30</td>\n",
       "      <td>2,716</td>\n",
       "      <td>34</td>\n",
       "      <td>10</td>\n",
       "      <td>6</td>\n",
       "      <td>7</td>\n",
       "      <td>9</td>\n",
       "      <td>0</td>\n",
       "      <td>1.13</td>\n",
       "    </tr>\n",
       "    <tr>\n",
       "      <th>12</th>\n",
       "      <td>2013-2014</td>\n",
       "      <td>28</td>\n",
       "      <td>Real Madrid</td>\n",
       "      <td>3rd</td>\n",
       "      <td>30</td>\n",
       "      <td>30</td>\n",
       "      <td>2,534</td>\n",
       "      <td>31</td>\n",
       "      <td>9</td>\n",
       "      <td>6</td>\n",
       "      <td>6</td>\n",
       "      <td>4</td>\n",
       "      <td>1</td>\n",
       "      <td>1.10</td>\n",
       "    </tr>\n",
       "    <tr>\n",
       "      <th>13</th>\n",
       "      <td>2014-2015</td>\n",
       "      <td>29</td>\n",
       "      <td>Real Madrid</td>\n",
       "      <td>2nd</td>\n",
       "      <td>35</td>\n",
       "      <td>35</td>\n",
       "      <td>3,100</td>\n",
       "      <td>48</td>\n",
       "      <td>16</td>\n",
       "      <td>10</td>\n",
       "      <td>12</td>\n",
       "      <td>5</td>\n",
       "      <td>1</td>\n",
       "      <td>1.39</td>\n",
       "    </tr>\n",
       "    <tr>\n",
       "      <th>14</th>\n",
       "      <td>2015-2016</td>\n",
       "      <td>30</td>\n",
       "      <td>Real Madrid</td>\n",
       "      <td>2nd</td>\n",
       "      <td>36</td>\n",
       "      <td>36</td>\n",
       "      <td>3,182</td>\n",
       "      <td>35</td>\n",
       "      <td>11</td>\n",
       "      <td>6</td>\n",
       "      <td>9</td>\n",
       "      <td>3</td>\n",
       "      <td>0</td>\n",
       "      <td>0.99</td>\n",
       "    </tr>\n",
       "    <tr>\n",
       "      <th>15</th>\n",
       "      <td>2016-2017</td>\n",
       "      <td>31</td>\n",
       "      <td>Real Madrid</td>\n",
       "      <td>1st</td>\n",
       "      <td>29</td>\n",
       "      <td>29</td>\n",
       "      <td>2,537</td>\n",
       "      <td>25</td>\n",
       "      <td>6</td>\n",
       "      <td>6</td>\n",
       "      <td>7</td>\n",
       "      <td>4</td>\n",
       "      <td>0</td>\n",
       "      <td>0.89</td>\n",
       "    </tr>\n",
       "    <tr>\n",
       "      <th>16</th>\n",
       "      <td>2017-2018</td>\n",
       "      <td>32</td>\n",
       "      <td>Real Madrid</td>\n",
       "      <td>3rd</td>\n",
       "      <td>27</td>\n",
       "      <td>27</td>\n",
       "      <td>2,288</td>\n",
       "      <td>26</td>\n",
       "      <td>5</td>\n",
       "      <td>3</td>\n",
       "      <td>4</td>\n",
       "      <td>1</td>\n",
       "      <td>0</td>\n",
       "      <td>1.02</td>\n",
       "    </tr>\n",
       "    <tr>\n",
       "      <th>17</th>\n",
       "      <td>2018-2019</td>\n",
       "      <td>33</td>\n",
       "      <td>Juventus</td>\n",
       "      <td>1st</td>\n",
       "      <td>31</td>\n",
       "      <td>30</td>\n",
       "      <td>2,688</td>\n",
       "      <td>21</td>\n",
       "      <td>8</td>\n",
       "      <td>5</td>\n",
       "      <td>6</td>\n",
       "      <td>3</td>\n",
       "      <td>0</td>\n",
       "      <td>0.70</td>\n",
       "    </tr>\n",
       "    <tr>\n",
       "      <th>18</th>\n",
       "      <td>2019-2020</td>\n",
       "      <td>34</td>\n",
       "      <td>Juventus</td>\n",
       "      <td>1st</td>\n",
       "      <td>33</td>\n",
       "      <td>33</td>\n",
       "      <td>2,917</td>\n",
       "      <td>31</td>\n",
       "      <td>5</td>\n",
       "      <td>12</td>\n",
       "      <td>13</td>\n",
       "      <td>3</td>\n",
       "      <td>0</td>\n",
       "      <td>0.96</td>\n",
       "    </tr>\n",
       "  </tbody>\n",
       "</table>\n",
       "</div>"
      ],
      "text/plain": [
       "      Seasons  Age            Club League Rank  Matches Played  \\\n",
       "1   2002-2003   17     Sporting CP         3rd              25   \n",
       "2   2003-2004   18  Manchester Utd         3rd              29   \n",
       "3   2004-2005   19  Manchester Utd         3rd              33   \n",
       "4   2005-2006   20  Manchester Utd         2nd              33   \n",
       "5   2006-2007   21  Manchester Utd         1st              34   \n",
       "6   2007-2008   22  Manchester Utd         1st              34   \n",
       "7   2008-2009   23  Manchester Utd         1st              33   \n",
       "8   2009-2010   24     Real Madrid         2nd              29   \n",
       "9   2010-2011   25     Real Madrid         2nd              34   \n",
       "10  2011-2012   26     Real Madrid         1st              38   \n",
       "11  2012-2013   27     Real Madrid         2nd              34   \n",
       "12  2013-2014   28     Real Madrid         3rd              30   \n",
       "13  2014-2015   29     Real Madrid         2nd              35   \n",
       "14  2015-2016   30     Real Madrid         2nd              36   \n",
       "15  2016-2017   31     Real Madrid         1st              29   \n",
       "16  2017-2018   32     Real Madrid         3rd              27   \n",
       "17  2018-2019   33        Juventus         1st              31   \n",
       "18  2019-2020   34        Juventus         1st              33   \n",
       "\n",
       "    Matches Started by CR7 Minutes  Goals  Assists  Penalty Goals  \\\n",
       "1                       11   1,080      3        3              0   \n",
       "2                       15   1,548      4        7              0   \n",
       "3                       25   2,423      5        6              0   \n",
       "4                       24   2,286      9        6              0   \n",
       "5                       31   2,794     17       13              3   \n",
       "6                       31   2,747     31        6              4   \n",
       "7                       31   2,743     18        6              4   \n",
       "8                       28   2,461     26        7              4   \n",
       "9                       32   2,914     40        9              8   \n",
       "10                      37   3,350     46       12             12   \n",
       "11                      30   2,716     34       10              6   \n",
       "12                      30   2,534     31        9              6   \n",
       "13                      35   3,100     48       16             10   \n",
       "14                      36   3,182     35       11              6   \n",
       "15                      29   2,537     25        6              6   \n",
       "16                      27   2,288     26        5              3   \n",
       "17                      30   2,688     21        8              5   \n",
       "18                      33   2,917     31        5             12   \n",
       "\n",
       "    Penalties Attempted  Yellow Cards  Red Cards  Goals per 90min  \n",
       "1                     0             1          0             0.25  \n",
       "2                     0             4          1             0.23  \n",
       "3                     0             4          0             0.19  \n",
       "4                     0             8          1             0.35  \n",
       "5                     4             2          0             0.55  \n",
       "6                     5             5          1             1.02  \n",
       "7                     4             6          1             0.59  \n",
       "8                     5             4          2             0.95  \n",
       "9                     8             2          0             1.24  \n",
       "10                   13             4          0             1.24  \n",
       "11                    7             9          0             1.13  \n",
       "12                    6             4          1             1.10  \n",
       "13                   12             5          1             1.39  \n",
       "14                    9             3          0             0.99  \n",
       "15                    7             4          0             0.89  \n",
       "16                    4             1          0             1.02  \n",
       "17                    6             3          0             0.70  \n",
       "18                   13             3          0             0.96  "
      ]
     },
     "execution_count": 7,
     "metadata": {},
     "output_type": "execute_result"
    }
   ],
   "source": [
    "ronaldo_data\n",
    "# Now it looks better"
   ]
  },
  {
   "cell_type": "code",
   "execution_count": 8,
   "metadata": {},
   "outputs": [
    {
     "data": {
      "text/html": [
       "<div>\n",
       "<style scoped>\n",
       "    .dataframe tbody tr th:only-of-type {\n",
       "        vertical-align: middle;\n",
       "    }\n",
       "\n",
       "    .dataframe tbody tr th {\n",
       "        vertical-align: top;\n",
       "    }\n",
       "\n",
       "    .dataframe thead th {\n",
       "        text-align: right;\n",
       "    }\n",
       "</style>\n",
       "<table border=\"1\" class=\"dataframe\">\n",
       "  <thead>\n",
       "    <tr style=\"text-align: right;\">\n",
       "      <th></th>\n",
       "      <th>Age</th>\n",
       "      <th>Matches Played</th>\n",
       "      <th>Matches Started by CR7</th>\n",
       "      <th>Goals</th>\n",
       "      <th>Assists</th>\n",
       "      <th>Penalty Goals</th>\n",
       "      <th>Penalties Attempted</th>\n",
       "      <th>Yellow Cards</th>\n",
       "      <th>Red Cards</th>\n",
       "      <th>Goals per 90min</th>\n",
       "    </tr>\n",
       "  </thead>\n",
       "  <tbody>\n",
       "    <tr>\n",
       "      <th>count</th>\n",
       "      <td>18.000000</td>\n",
       "      <td>18.000000</td>\n",
       "      <td>18.000000</td>\n",
       "      <td>18.000000</td>\n",
       "      <td>18.000000</td>\n",
       "      <td>18.000000</td>\n",
       "      <td>18.000000</td>\n",
       "      <td>18.000000</td>\n",
       "      <td>18.000000</td>\n",
       "      <td>18.000000</td>\n",
       "    </tr>\n",
       "    <tr>\n",
       "      <th>mean</th>\n",
       "      <td>25.500000</td>\n",
       "      <td>32.055556</td>\n",
       "      <td>28.611111</td>\n",
       "      <td>25.000000</td>\n",
       "      <td>8.055556</td>\n",
       "      <td>4.944444</td>\n",
       "      <td>5.722222</td>\n",
       "      <td>4.000000</td>\n",
       "      <td>0.444444</td>\n",
       "      <td>0.821667</td>\n",
       "    </tr>\n",
       "    <tr>\n",
       "      <th>std</th>\n",
       "      <td>5.338539</td>\n",
       "      <td>3.316132</td>\n",
       "      <td>6.652190</td>\n",
       "      <td>13.711309</td>\n",
       "      <td>3.298346</td>\n",
       "      <td>3.811318</td>\n",
       "      <td>4.239944</td>\n",
       "      <td>2.114377</td>\n",
       "      <td>0.615699</td>\n",
       "      <td>0.378344</td>\n",
       "    </tr>\n",
       "    <tr>\n",
       "      <th>min</th>\n",
       "      <td>17.000000</td>\n",
       "      <td>25.000000</td>\n",
       "      <td>11.000000</td>\n",
       "      <td>3.000000</td>\n",
       "      <td>3.000000</td>\n",
       "      <td>0.000000</td>\n",
       "      <td>0.000000</td>\n",
       "      <td>1.000000</td>\n",
       "      <td>0.000000</td>\n",
       "      <td>0.190000</td>\n",
       "    </tr>\n",
       "    <tr>\n",
       "      <th>25%</th>\n",
       "      <td>21.250000</td>\n",
       "      <td>29.250000</td>\n",
       "      <td>27.250000</td>\n",
       "      <td>17.250000</td>\n",
       "      <td>6.000000</td>\n",
       "      <td>3.000000</td>\n",
       "      <td>4.000000</td>\n",
       "      <td>3.000000</td>\n",
       "      <td>0.000000</td>\n",
       "      <td>0.560000</td>\n",
       "    </tr>\n",
       "    <tr>\n",
       "      <th>50%</th>\n",
       "      <td>25.500000</td>\n",
       "      <td>33.000000</td>\n",
       "      <td>30.000000</td>\n",
       "      <td>26.000000</td>\n",
       "      <td>7.000000</td>\n",
       "      <td>4.500000</td>\n",
       "      <td>5.500000</td>\n",
       "      <td>4.000000</td>\n",
       "      <td>0.000000</td>\n",
       "      <td>0.955000</td>\n",
       "    </tr>\n",
       "    <tr>\n",
       "      <th>75%</th>\n",
       "      <td>29.750000</td>\n",
       "      <td>34.000000</td>\n",
       "      <td>31.750000</td>\n",
       "      <td>33.250000</td>\n",
       "      <td>9.750000</td>\n",
       "      <td>6.000000</td>\n",
       "      <td>7.750000</td>\n",
       "      <td>4.750000</td>\n",
       "      <td>1.000000</td>\n",
       "      <td>1.080000</td>\n",
       "    </tr>\n",
       "    <tr>\n",
       "      <th>max</th>\n",
       "      <td>34.000000</td>\n",
       "      <td>38.000000</td>\n",
       "      <td>37.000000</td>\n",
       "      <td>48.000000</td>\n",
       "      <td>16.000000</td>\n",
       "      <td>12.000000</td>\n",
       "      <td>13.000000</td>\n",
       "      <td>9.000000</td>\n",
       "      <td>2.000000</td>\n",
       "      <td>1.390000</td>\n",
       "    </tr>\n",
       "  </tbody>\n",
       "</table>\n",
       "</div>"
      ],
      "text/plain": [
       "             Age  Matches Played  Matches Started by CR7      Goals  \\\n",
       "count  18.000000       18.000000               18.000000  18.000000   \n",
       "mean   25.500000       32.055556               28.611111  25.000000   \n",
       "std     5.338539        3.316132                6.652190  13.711309   \n",
       "min    17.000000       25.000000               11.000000   3.000000   \n",
       "25%    21.250000       29.250000               27.250000  17.250000   \n",
       "50%    25.500000       33.000000               30.000000  26.000000   \n",
       "75%    29.750000       34.000000               31.750000  33.250000   \n",
       "max    34.000000       38.000000               37.000000  48.000000   \n",
       "\n",
       "         Assists  Penalty Goals  Penalties Attempted  Yellow Cards  Red Cards  \\\n",
       "count  18.000000      18.000000            18.000000     18.000000  18.000000   \n",
       "mean    8.055556       4.944444             5.722222      4.000000   0.444444   \n",
       "std     3.298346       3.811318             4.239944      2.114377   0.615699   \n",
       "min     3.000000       0.000000             0.000000      1.000000   0.000000   \n",
       "25%     6.000000       3.000000             4.000000      3.000000   0.000000   \n",
       "50%     7.000000       4.500000             5.500000      4.000000   0.000000   \n",
       "75%     9.750000       6.000000             7.750000      4.750000   1.000000   \n",
       "max    16.000000      12.000000            13.000000      9.000000   2.000000   \n",
       "\n",
       "       Goals per 90min  \n",
       "count        18.000000  \n",
       "mean          0.821667  \n",
       "std           0.378344  \n",
       "min           0.190000  \n",
       "25%           0.560000  \n",
       "50%           0.955000  \n",
       "75%           1.080000  \n",
       "max           1.390000  "
      ]
     },
     "execution_count": 8,
     "metadata": {},
     "output_type": "execute_result"
    }
   ],
   "source": [
    "ronaldo_data.describe()"
   ]
  },
  {
   "cell_type": "markdown",
   "metadata": {},
   "source": [
    "## Let's See How Was His League Career So Far"
   ]
  },
  {
   "cell_type": "code",
   "execution_count": 9,
   "metadata": {},
   "outputs": [
    {
     "data": {
      "image/png": "[encoded data removed]",
      "text/plain": [
       "<Figure size 432x288 with 1 Axes>"
      ]
     },
     "metadata": {},
     "output_type": "display_data"
    }
   ],
   "source": [
    "# Correlation between his age and the number of goals:\n",
    "plt.plot(ronaldo_data[\"Age\"], ronaldo_data[\"Goals\"])\n",
    "plt.xticks(ronaldo_data[\"Age\"])\n",
    "plt.grid()\n",
    "plt.show()"
   ]
  },
  {
   "cell_type": "code",
   "execution_count": 10,
   "metadata": {},
   "outputs": [
    {
     "data": {
      "image/png": "[encoded data removed]",
      "text/plain": [
       "<Figure size 432x288 with 1 Axes>"
      ]
     },
     "metadata": {},
     "output_type": "display_data"
    }
   ],
   "source": [
    "plt.plot(ronaldo_data[\"Age\"], ronaldo_data[\"Goals per 90min\"])\n",
    "plt.xticks(ronaldo_data[\"Age\"])\n",
    "plt.grid()\n",
    "plt.show()\n",
    "# Similar to the upper graph\n",
    "# It should be scary for the rival to know that Ronaldo will score at least 1 goal in the match "
   ]
  },
  {
   "cell_type": "markdown",
   "metadata": {},
   "source": [
    "### Let's check his performances with respect to the clubs"
   ]
  },
  {
   "cell_type": "code",
   "execution_count": 11,
   "metadata": {},
   "outputs": [],
   "source": [
    "group_data = ronaldo_data.groupby(['Club']).sum()\n",
    "group_data = group_data.drop(columns = \"Age\")"
   ]
  },
  {
   "cell_type": "code",
   "execution_count": 12,
   "metadata": {},
   "outputs": [
    {
     "data": {
      "text/html": [
       "<div>\n",
       "<style scoped>\n",
       "    .dataframe tbody tr th:only-of-type {\n",
       "        vertical-align: middle;\n",
       "    }\n",
       "\n",
       "    .dataframe tbody tr th {\n",
       "        vertical-align: top;\n",
       "    }\n",
       "\n",
       "    .dataframe thead th {\n",
       "        text-align: right;\n",
       "    }\n",
       "</style>\n",
       "<table border=\"1\" class=\"dataframe\">\n",
       "  <thead>\n",
       "    <tr style=\"text-align: right;\">\n",
       "      <th></th>\n",
       "      <th>Matches Played</th>\n",
       "      <th>Matches Started by CR7</th>\n",
       "      <th>Goals</th>\n",
       "      <th>Assists</th>\n",
       "      <th>Penalty Goals</th>\n",
       "      <th>Penalties Attempted</th>\n",
       "      <th>Yellow Cards</th>\n",
       "      <th>Red Cards</th>\n",
       "      <th>Goals per 90min</th>\n",
       "    </tr>\n",
       "    <tr>\n",
       "      <th>Club</th>\n",
       "      <th></th>\n",
       "      <th></th>\n",
       "      <th></th>\n",
       "      <th></th>\n",
       "      <th></th>\n",
       "      <th></th>\n",
       "      <th></th>\n",
       "      <th></th>\n",
       "      <th></th>\n",
       "    </tr>\n",
       "  </thead>\n",
       "  <tbody>\n",
       "    <tr>\n",
       "      <th>Juventus</th>\n",
       "      <td>64</td>\n",
       "      <td>63</td>\n",
       "      <td>52</td>\n",
       "      <td>13</td>\n",
       "      <td>17</td>\n",
       "      <td>19</td>\n",
       "      <td>6</td>\n",
       "      <td>0</td>\n",
       "      <td>1.66</td>\n",
       "    </tr>\n",
       "    <tr>\n",
       "      <th>Manchester Utd</th>\n",
       "      <td>196</td>\n",
       "      <td>157</td>\n",
       "      <td>84</td>\n",
       "      <td>44</td>\n",
       "      <td>11</td>\n",
       "      <td>13</td>\n",
       "      <td>29</td>\n",
       "      <td>4</td>\n",
       "      <td>2.93</td>\n",
       "    </tr>\n",
       "    <tr>\n",
       "      <th>Real Madrid</th>\n",
       "      <td>292</td>\n",
       "      <td>284</td>\n",
       "      <td>311</td>\n",
       "      <td>85</td>\n",
       "      <td>61</td>\n",
       "      <td>71</td>\n",
       "      <td>36</td>\n",
       "      <td>4</td>\n",
       "      <td>9.95</td>\n",
       "    </tr>\n",
       "    <tr>\n",
       "      <th>Sporting CP</th>\n",
       "      <td>25</td>\n",
       "      <td>11</td>\n",
       "      <td>3</td>\n",
       "      <td>3</td>\n",
       "      <td>0</td>\n",
       "      <td>0</td>\n",
       "      <td>1</td>\n",
       "      <td>0</td>\n",
       "      <td>0.25</td>\n",
       "    </tr>\n",
       "  </tbody>\n",
       "</table>\n",
       "</div>"
      ],
      "text/plain": [
       "                Matches Played  Matches Started by CR7  Goals  Assists  \\\n",
       "Club                                                                     \n",
       "Juventus                    64                      63     52       13   \n",
       "Manchester Utd             196                     157     84       44   \n",
       "Real Madrid                292                     284    311       85   \n",
       "Sporting CP                 25                      11      3        3   \n",
       "\n",
       "                Penalty Goals  Penalties Attempted  Yellow Cards  Red Cards  \\\n",
       "Club                                                                          \n",
       "Juventus                   17                   19             6          0   \n",
       "Manchester Utd             11                   13            29          4   \n",
       "Real Madrid                61                   71            36          4   \n",
       "Sporting CP                 0                    0             1          0   \n",
       "\n",
       "                Goals per 90min  \n",
       "Club                             \n",
       "Juventus                   1.66  \n",
       "Manchester Utd             2.93  \n",
       "Real Madrid                9.95  \n",
       "Sporting CP                0.25  "
      ]
     },
     "execution_count": 12,
     "metadata": {},
     "output_type": "execute_result"
    }
   ],
   "source": [
    "group_data"
   ]
  },
  {
   "cell_type": "code",
   "execution_count": 13,
   "metadata": {},
   "outputs": [
    {
     "data": {
      "image/png": "[encoded data removed]",
      "text/plain": [
       "<Figure size 432x288 with 1 Axes>"
      ]
     },
     "metadata": {},
     "output_type": "display_data"
    }
   ],
   "source": [
    "clubs = [club for club in group_data.index]\n",
    "\n",
    "plt.bar(clubs,ronaldo_data.groupby(['Club']).sum()['Goals'])\n",
    "plt.xticks(clubs)\n",
    "plt.ylabel('Goals')\n",
    "plt.xlabel('Clubs')\n",
    "plt.show()"
   ]
  },
  {
   "cell_type": "code",
   "execution_count": 14,
   "metadata": {},
   "outputs": [
    {
     "data": {
      "image/png": "[encoded data removed]",
      "text/plain": [
       "<Figure size 432x288 with 1 Axes>"
      ]
     },
     "metadata": {},
     "output_type": "display_data"
    }
   ],
   "source": [
    "# Assists\n",
    "plt.bar(clubs,ronaldo_data.groupby(['Club']).sum()['Assists'])\n",
    "plt.xticks(clubs)\n",
    "plt.ylabel('Assists')\n",
    "plt.xlabel('Clubs')\n",
    "plt.show()"
   ]
  },
  {
   "cell_type": "markdown",
   "metadata": {},
   "source": [
    "### Let's use linear regression model to have an idea about the number of goals he will score"
   ]
  },
  {
   "cell_type": "code",
   "execution_count": 15,
   "metadata": {},
   "outputs": [
    {
     "name": "stderr",
     "output_type": "stream",
     "text": [
      "C:\\Users\\pc\\anaconda3\\lib\\site-packages\\scipy\\stats\\stats.py:1535: UserWarning: kurtosistest only valid for n>=20 ... continuing anyway, n=18\n",
      "  \"anyway, n=%i\" % int(n))\n"
     ]
    },
    {
     "data": {
      "text/html": [
       "<table class=\"simpletable\">\n",
       "<caption>OLS Regression Results</caption>\n",
       "<tr>\n",
       "  <th>Dep. Variable:</th>          <td>Goals</td>      <th>  R-squared:         </th> <td>   0.391</td>\n",
       "</tr>\n",
       "<tr>\n",
       "  <th>Model:</th>                   <td>OLS</td>       <th>  Adj. R-squared:    </th> <td>   0.353</td>\n",
       "</tr>\n",
       "<tr>\n",
       "  <th>Method:</th>             <td>Least Squares</td>  <th>  F-statistic:       </th> <td>   10.27</td>\n",
       "</tr>\n",
       "<tr>\n",
       "  <th>Date:</th>             <td>Mon, 09 Nov 2020</td> <th>  Prob (F-statistic):</th>  <td>0.00553</td>\n",
       "</tr>\n",
       "<tr>\n",
       "  <th>Time:</th>                 <td>22:22:11</td>     <th>  Log-Likelihood:    </th> <td> -67.693</td>\n",
       "</tr>\n",
       "<tr>\n",
       "  <th>No. Observations:</th>      <td>    18</td>      <th>  AIC:               </th> <td>   139.4</td>\n",
       "</tr>\n",
       "<tr>\n",
       "  <th>Df Residuals:</th>          <td>    16</td>      <th>  BIC:               </th> <td>   141.2</td>\n",
       "</tr>\n",
       "<tr>\n",
       "  <th>Df Model:</th>              <td>     1</td>      <th>                     </th>     <td> </td>   \n",
       "</tr>\n",
       "<tr>\n",
       "  <th>Covariance Type:</th>      <td>nonrobust</td>    <th>                     </th>     <td> </td>   \n",
       "</tr>\n",
       "</table>\n",
       "<table class=\"simpletable\">\n",
       "<tr>\n",
       "    <td></td>       <th>coef</th>     <th>std err</th>      <th>t</th>      <th>P>|t|</th>  <th>[0.025</th>    <th>0.975]</th>  \n",
       "</tr>\n",
       "<tr>\n",
       "  <th>const</th> <td>  -15.9474</td> <td>   13.040</td> <td>   -1.223</td> <td> 0.239</td> <td>  -43.592</td> <td>   11.697</td>\n",
       "</tr>\n",
       "<tr>\n",
       "  <th>Age</th>   <td>    1.6058</td> <td>    0.501</td> <td>    3.204</td> <td> 0.006</td> <td>    0.543</td> <td>    2.668</td>\n",
       "</tr>\n",
       "</table>\n",
       "<table class=\"simpletable\">\n",
       "<tr>\n",
       "  <th>Omnibus:</th>       <td> 1.800</td> <th>  Durbin-Watson:     </th> <td>   0.788</td>\n",
       "</tr>\n",
       "<tr>\n",
       "  <th>Prob(Omnibus):</th> <td> 0.407</td> <th>  Jarque-Bera (JB):  </th> <td>   1.416</td>\n",
       "</tr>\n",
       "<tr>\n",
       "  <th>Skew:</th>          <td> 0.528</td> <th>  Prob(JB):          </th> <td>   0.493</td>\n",
       "</tr>\n",
       "<tr>\n",
       "  <th>Kurtosis:</th>      <td> 2.120</td> <th>  Cond. No.          </th> <td>    131.</td>\n",
       "</tr>\n",
       "</table><br/><br/>Warnings:<br/>[1] Standard Errors assume that the covariance matrix of the errors is correctly specified."
      ],
      "text/plain": [
       "<class 'statsmodels.iolib.summary.Summary'>\n",
       "\"\"\"\n",
       "                            OLS Regression Results                            \n",
       "==============================================================================\n",
       "Dep. Variable:                  Goals   R-squared:                       0.391\n",
       "Model:                            OLS   Adj. R-squared:                  0.353\n",
       "Method:                 Least Squares   F-statistic:                     10.27\n",
       "Date:                Mon, 09 Nov 2020   Prob (F-statistic):            0.00553\n",
       "Time:                        22:22:11   Log-Likelihood:                -67.693\n",
       "No. Observations:                  18   AIC:                             139.4\n",
       "Df Residuals:                      16   BIC:                             141.2\n",
       "Df Model:                           1                                         \n",
       "Covariance Type:            nonrobust                                         \n",
       "==============================================================================\n",
       "                 coef    std err          t      P>|t|      [0.025      0.975]\n",
       "------------------------------------------------------------------------------\n",
       "const        -15.9474     13.040     -1.223      0.239     -43.592      11.697\n",
       "Age            1.6058      0.501      3.204      0.006       0.543       2.668\n",
       "==============================================================================\n",
       "Omnibus:                        1.800   Durbin-Watson:                   0.788\n",
       "Prob(Omnibus):                  0.407   Jarque-Bera (JB):                1.416\n",
       "Skew:                           0.528   Prob(JB):                        0.493\n",
       "Kurtosis:                       2.120   Cond. No.                         131.\n",
       "==============================================================================\n",
       "\n",
       "Warnings:\n",
       "[1] Standard Errors assume that the covariance matrix of the errors is correctly specified.\n",
       "\"\"\""
      ]
     },
     "execution_count": 15,
     "metadata": {},
     "output_type": "execute_result"
    }
   ],
   "source": [
    "y = ronaldo_data ['Goals']\n",
    "x1 = ronaldo_data ['Age']\n",
    "x = sm.add_constant(x1)\n",
    "results = sm.OLS(y,x).fit()\n",
    "results.summary()"
   ]
  },
  {
   "cell_type": "code",
   "execution_count": 16,
   "metadata": {},
   "outputs": [
    {
     "data": {
      "text/plain": [
       "[<matplotlib.lines.Line2D at 0x1d3c87a2148>]"
      ]
     },
     "execution_count": 16,
     "metadata": {},
     "output_type": "execute_result"
    },
    {
     "data": {
      "image/png": "[encoded data removed]",
      "text/plain": [
       "<Figure size 432x288 with 1 Axes>"
      ]
     },
     "metadata": {},
     "output_type": "display_data"
    }
   ],
   "source": [
    "m, b = np.polyfit(ronaldo_data[\"Age\"], ronaldo_data[\"Goals\"], 1)\n",
    "plt.xticks(ronaldo_data[\"Age\"])\n",
    "plt.plot(ronaldo_data[\"Age\"], ronaldo_data[\"Goals\"], 'o')\n",
    "plt.plot(ronaldo_data[\"Age\"], m*ronaldo_data[\"Age\"] + b)"
   ]
  },
  {
   "cell_type": "markdown",
   "metadata": {},
   "source": [
    "#### Let's use the same method to have an idea about the number of assists"
   ]
  },
  {
   "cell_type": "code",
   "execution_count": 17,
   "metadata": {},
   "outputs": [
    {
     "data": {
      "text/plain": [
       "[<matplotlib.lines.Line2D at 0x1d3c82bb508>]"
      ]
     },
     "execution_count": 17,
     "metadata": {},
     "output_type": "execute_result"
    },
    {
     "data": {
      "image/png": "[encoded data removed]",
      "text/plain": [
       "<Figure size 432x288 with 1 Axes>"
      ]
     },
     "metadata": {},
     "output_type": "display_data"
    }
   ],
   "source": [
    "m, b = np.polyfit(ronaldo_data[\"Age\"], ronaldo_data[\"Assists\"], 1)\n",
    "plt.xticks(ronaldo_data[\"Age\"])\n",
    "plt.plot(ronaldo_data[\"Age\"], ronaldo_data[\"Assists\"], 'o')\n",
    "plt.plot(ronaldo_data[\"Age\"], m*ronaldo_data[\"Age\"] + b)"
   ]
  },
  {
   "cell_type": "markdown",
   "metadata": {},
   "source": [
    "#### Linear Regression With Marginal Distributions"
   ]
  },
  {
   "cell_type": "code",
   "execution_count": 18,
   "metadata": {},
   "outputs": [
    {
     "data": {
      "text/plain": [
       "<seaborn.axisgrid.JointGrid at 0x1d3c8813908>"
      ]
     },
     "execution_count": 18,
     "metadata": {},
     "output_type": "execute_result"
    },
    {
     "data": {
      "image/png": "[encoded data removed]",
      "text/plain": [
       "<Figure size 504x504 with 3 Axes>"
      ]
     },
     "metadata": {},
     "output_type": "display_data"
    }
   ],
   "source": [
    "sns.jointplot(x=\"Goals\", y=\"Assists\", data=ronaldo_data,\n",
    "                  kind=\"reg\", truncate = False,\n",
    "                  color=\"m\", height=7)\n",
    "# It can be seen that the season when he scored the highest number of his goals, his number of assists is the highest of his career"
   ]
  },
  {
   "cell_type": "markdown",
   "metadata": {},
   "source": [
    "## Multiple Linear Regression"
   ]
  },
  {
   "cell_type": "markdown",
   "metadata": {},
   "source": [
    "I want to increase the explanatory power of the data by adding variables. As we notice from the graph below, R-squared is increase, which means the data of \"Matches Playes\" is useful for this regression."
   ]
  },
  {
   "cell_type": "markdown",
   "metadata": {},
   "source": [
    "Also, the P value is less than 0.05, which means, the data \"Matches Played\" is significant and strengthens our analysis."
   ]
  },
  {
   "cell_type": "code",
   "execution_count": 19,
   "metadata": {},
   "outputs": [
    {
     "name": "stderr",
     "output_type": "stream",
     "text": [
      "C:\\Users\\pc\\anaconda3\\lib\\site-packages\\scipy\\stats\\stats.py:1535: UserWarning: kurtosistest only valid for n>=20 ... continuing anyway, n=18\n",
      "  \"anyway, n=%i\" % int(n))\n"
     ]
    },
    {
     "data": {
      "text/html": [
       "<table class=\"simpletable\">\n",
       "<caption>OLS Regression Results</caption>\n",
       "<tr>\n",
       "  <th>Dep. Variable:</th>          <td>Goals</td>      <th>  R-squared:         </th> <td>   0.642</td>\n",
       "</tr>\n",
       "<tr>\n",
       "  <th>Model:</th>                   <td>OLS</td>       <th>  Adj. R-squared:    </th> <td>   0.594</td>\n",
       "</tr>\n",
       "<tr>\n",
       "  <th>Method:</th>             <td>Least Squares</td>  <th>  F-statistic:       </th> <td>   13.44</td>\n",
       "</tr>\n",
       "<tr>\n",
       "  <th>Date:</th>             <td>Mon, 09 Nov 2020</td> <th>  Prob (F-statistic):</th> <td>0.000452</td>\n",
       "</tr>\n",
       "<tr>\n",
       "  <th>Time:</th>                 <td>22:22:28</td>     <th>  Log-Likelihood:    </th> <td> -62.912</td>\n",
       "</tr>\n",
       "<tr>\n",
       "  <th>No. Observations:</th>      <td>    18</td>      <th>  AIC:               </th> <td>   131.8</td>\n",
       "</tr>\n",
       "<tr>\n",
       "  <th>Df Residuals:</th>          <td>    15</td>      <th>  BIC:               </th> <td>   134.5</td>\n",
       "</tr>\n",
       "<tr>\n",
       "  <th>Df Model:</th>              <td>     2</td>      <th>                     </th>     <td> </td>   \n",
       "</tr>\n",
       "<tr>\n",
       "  <th>Covariance Type:</th>      <td>nonrobust</td>    <th>                     </th>     <td> </td>   \n",
       "</tr>\n",
       "</table>\n",
       "<table class=\"simpletable\">\n",
       "<tr>\n",
       "         <td></td>           <th>coef</th>     <th>std err</th>      <th>t</th>      <th>P>|t|</th>  <th>[0.025</th>    <th>0.975]</th>  \n",
       "</tr>\n",
       "<tr>\n",
       "  <th>const</th>          <td>  -78.8339</td> <td>   21.973</td> <td>   -3.588</td> <td> 0.003</td> <td> -125.669</td> <td>  -31.999</td>\n",
       "</tr>\n",
       "<tr>\n",
       "  <th>Age</th>            <td>    1.4486</td> <td>    0.400</td> <td>    3.623</td> <td> 0.003</td> <td>    0.596</td> <td>    2.301</td>\n",
       "</tr>\n",
       "<tr>\n",
       "  <th>Matches Played</th> <td>    2.0869</td> <td>    0.644</td> <td>    3.242</td> <td> 0.005</td> <td>    0.715</td> <td>    3.459</td>\n",
       "</tr>\n",
       "</table>\n",
       "<table class=\"simpletable\">\n",
       "<tr>\n",
       "  <th>Omnibus:</th>       <td> 3.649</td> <th>  Durbin-Watson:     </th> <td>   1.167</td>\n",
       "</tr>\n",
       "<tr>\n",
       "  <th>Prob(Omnibus):</th> <td> 0.161</td> <th>  Jarque-Bera (JB):  </th> <td>   1.308</td>\n",
       "</tr>\n",
       "<tr>\n",
       "  <th>Skew:</th>          <td>-0.075</td> <th>  Prob(JB):          </th> <td>   0.520</td>\n",
       "</tr>\n",
       "<tr>\n",
       "  <th>Kurtosis:</th>      <td> 1.688</td> <th>  Cond. No.          </th> <td>    440.</td>\n",
       "</tr>\n",
       "</table><br/><br/>Warnings:<br/>[1] Standard Errors assume that the covariance matrix of the errors is correctly specified."
      ],
      "text/plain": [
       "<class 'statsmodels.iolib.summary.Summary'>\n",
       "\"\"\"\n",
       "                            OLS Regression Results                            \n",
       "==============================================================================\n",
       "Dep. Variable:                  Goals   R-squared:                       0.642\n",
       "Model:                            OLS   Adj. R-squared:                  0.594\n",
       "Method:                 Least Squares   F-statistic:                     13.44\n",
       "Date:                Mon, 09 Nov 2020   Prob (F-statistic):           0.000452\n",
       "Time:                        22:22:28   Log-Likelihood:                -62.912\n",
       "No. Observations:                  18   AIC:                             131.8\n",
       "Df Residuals:                      15   BIC:                             134.5\n",
       "Df Model:                           2                                         \n",
       "Covariance Type:            nonrobust                                         \n",
       "==================================================================================\n",
       "                     coef    std err          t      P>|t|      [0.025      0.975]\n",
       "----------------------------------------------------------------------------------\n",
       "const            -78.8339     21.973     -3.588      0.003    -125.669     -31.999\n",
       "Age                1.4486      0.400      3.623      0.003       0.596       2.301\n",
       "Matches Played     2.0869      0.644      3.242      0.005       0.715       3.459\n",
       "==============================================================================\n",
       "Omnibus:                        3.649   Durbin-Watson:                   1.167\n",
       "Prob(Omnibus):                  0.161   Jarque-Bera (JB):                1.308\n",
       "Skew:                          -0.075   Prob(JB):                        0.520\n",
       "Kurtosis:                       1.688   Cond. No.                         440.\n",
       "==============================================================================\n",
       "\n",
       "Warnings:\n",
       "[1] Standard Errors assume that the covariance matrix of the errors is correctly specified.\n",
       "\"\"\""
      ]
     },
     "execution_count": 19,
     "metadata": {},
     "output_type": "execute_result"
    }
   ],
   "source": [
    "y = ronaldo_data ['Goals']\n",
    "x1 = ronaldo_data [['Age','Matches Played']]\n",
    "x = sm.add_constant(x1)\n",
    "results = sm.OLS(y,x).fit()\n",
    "results.summary()"
   ]
  },
  {
   "cell_type": "markdown",
   "metadata": {},
   "source": [
    "### Linear Regression with Sklearn"
   ]
  },
  {
   "cell_type": "markdown",
   "metadata": {},
   "source": [
    "I want to see the relationship btw the goals he scored and number of his assists as independent variables, and the league rank of the team in the end of the season as a dependent variable."
   ]
  },
  {
   "cell_type": "code",
   "execution_count": 21,
   "metadata": {},
   "outputs": [],
   "source": [
    "ronaldo_data['League Rank'] = ronaldo_data['League Rank'].str[0]\n",
    "ronaldo_data['League Rank'] = ronaldo_data['League Rank'].astype('int32')"
   ]
  },
  {
   "cell_type": "code",
   "execution_count": 23,
   "metadata": {},
   "outputs": [
    {
     "data": {
      "text/plain": [
       "LinearRegression(copy_X=True, fit_intercept=True, n_jobs=None, normalize=False)"
      ]
     },
     "execution_count": 23,
     "metadata": {},
     "output_type": "execute_result"
    }
   ],
   "source": [
    "x = ronaldo_data[[\"Goals\",\"Assists\"]]\n",
    "y = ronaldo_data[\"League Rank\"]\n",
    "reg = LinearRegression()\n",
    "reg.fit(x,y)"
   ]
  },
  {
   "cell_type": "code",
   "execution_count": 28,
   "metadata": {},
   "outputs": [
    {
     "name": "stdout",
     "output_type": "stream",
     "text": [
      "[-0.02273314  0.00553149]\n",
      "2.4126581646767153\n",
      "0.13046769376612555\n"
     ]
    }
   ],
   "source": [
    "print(reg.coef_) #coefficient value\n",
    "print(reg.intercept_) #interception value\n",
    "print(reg.score(x,y)) #R-squared value"
   ]
  },
  {
   "cell_type": "markdown",
   "metadata": {},
   "source": [
    "Finding Adjusted R-Squared Value"
   ]
  },
  {
   "cell_type": "markdown",
   "metadata": {},
   "source": [
    "$R^2_{adj.} = 1 - (1-R^2)*\\frac{n-1}{n-p-1}$"
   ]
  },
  {
   "cell_type": "code",
   "execution_count": 29,
   "metadata": {},
   "outputs": [
    {
     "data": {
      "text/plain": [
       "0.01453005293494225"
      ]
     },
     "execution_count": 29,
     "metadata": {},
     "output_type": "execute_result"
    }
   ],
   "source": [
    "r2 = reg.score(x,y) # R-squared value\n",
    "n = x.shape[0] # Number of observations \n",
    "p = x.shape[1] # Number of features \n",
    "adjusted_r2 = 1-(1-r2)*(n-1)/(n-p-1)\n",
    "adjusted_r2"
   ]
  },
  {
   "cell_type": "markdown",
   "metadata": {},
   "source": [
    "Summary Table"
   ]
  },
  {
   "cell_type": "code",
   "execution_count": 34,
   "metadata": {},
   "outputs": [],
   "source": [
    "from sklearn.feature_selection import f_regression\n",
    "p_values = f_regression(x,y)[1]\n",
    "reg_summary = pd.DataFrame(data = x.columns.values, columns = [\"Features\"])\n",
    "reg_summary[\"Coefficients\"] = reg.coef_\n",
    "reg_summary[\"p-values\"] = p_values"
   ]
  },
  {
   "cell_type": "code",
   "execution_count": 35,
   "metadata": {},
   "outputs": [
    {
     "data": {
      "text/html": [
       "<div>\n",
       "<style scoped>\n",
       "    .dataframe tbody tr th:only-of-type {\n",
       "        vertical-align: middle;\n",
       "    }\n",
       "\n",
       "    .dataframe tbody tr th {\n",
       "        vertical-align: top;\n",
       "    }\n",
       "\n",
       "    .dataframe thead th {\n",
       "        text-align: right;\n",
       "    }\n",
       "</style>\n",
       "<table border=\"1\" class=\"dataframe\">\n",
       "  <thead>\n",
       "    <tr style=\"text-align: right;\">\n",
       "      <th></th>\n",
       "      <th>Features</th>\n",
       "      <th>Coefficients</th>\n",
       "      <th>p-values</th>\n",
       "    </tr>\n",
       "  </thead>\n",
       "  <tbody>\n",
       "    <tr>\n",
       "      <th>0</th>\n",
       "      <td>Goals</td>\n",
       "      <td>-0.022733</td>\n",
       "      <td>0.141313</td>\n",
       "    </tr>\n",
       "    <tr>\n",
       "      <th>1</th>\n",
       "      <td>Assists</td>\n",
       "      <td>0.005531</td>\n",
       "      <td>0.398641</td>\n",
       "    </tr>\n",
       "  </tbody>\n",
       "</table>\n",
       "</div>"
      ],
      "text/plain": [
       "  Features  Coefficients  p-values\n",
       "0    Goals     -0.022733  0.141313\n",
       "1  Assists      0.005531  0.398641"
      ]
     },
     "execution_count": 35,
     "metadata": {},
     "output_type": "execute_result"
    }
   ],
   "source": [
    "reg_summary"
   ]
  },
  {
   "cell_type": "markdown",
   "metadata": {},
   "source": [
    "### Standardization"
   ]
  },
  {
   "cell_type": "code",
   "execution_count": 37,
   "metadata": {},
   "outputs": [],
   "source": [
    "from sklearn.preprocessing import StandardScaler"
   ]
  },
  {
   "cell_type": "code",
   "execution_count": 38,
   "metadata": {},
   "outputs": [],
   "source": [
    "scaler = StandardScaler()\n",
    "scaler.fit(x)\n",
    "x_scaled = scaler.transform(x)"
   ]
  },
  {
   "cell_type": "code",
   "execution_count": 39,
   "metadata": {},
   "outputs": [
    {
     "data": {
      "text/plain": [
       "array([[-1.65103222, -1.57719174],\n",
       "       [-1.5759853 , -0.32930377],\n",
       "       [-1.50093838, -0.64127576],\n",
       "       [-1.2007507 , -0.64127576],\n",
       "       [-0.60037535,  1.54252819],\n",
       "       [ 0.45028151, -0.64127576],\n",
       "       [-0.52532843, -0.64127576],\n",
       "       [ 0.07504692, -0.32930377],\n",
       "       [ 1.12570378,  0.29464022],\n",
       "       [ 1.5759853 ,  1.2305562 ],\n",
       "       [ 0.67542227,  0.60661221],\n",
       "       [ 0.45028151,  0.29464022],\n",
       "       [ 1.72607914,  2.47844417],\n",
       "       [ 0.75046919,  0.9185842 ],\n",
       "       [ 0.        , -0.64127576],\n",
       "       [ 0.07504692, -0.95324776],\n",
       "       [-0.30018768, -0.01733178],\n",
       "       [ 0.45028151, -0.95324776]])"
      ]
     },
     "execution_count": 39,
     "metadata": {},
     "output_type": "execute_result"
    }
   ],
   "source": [
    "x_scaled"
   ]
  },
  {
   "cell_type": "code",
   "execution_count": 40,
   "metadata": {},
   "outputs": [
    {
     "data": {
      "text/plain": [
       "LinearRegression(copy_X=True, fit_intercept=True, n_jobs=None, normalize=False)"
      ]
     },
     "execution_count": 40,
     "metadata": {},
     "output_type": "execute_result"
    }
   ],
   "source": [
    "reg = LinearRegression()\n",
    "reg.fit(x_scaled,y)"
   ]
  },
  {
   "cell_type": "markdown",
   "metadata": {},
   "source": [
    "Summary table of weights"
   ]
  },
  {
   "cell_type": "code",
   "execution_count": 42,
   "metadata": {},
   "outputs": [
    {
     "data": {
      "text/html": [
       "<div>\n",
       "<style scoped>\n",
       "    .dataframe tbody tr th:only-of-type {\n",
       "        vertical-align: middle;\n",
       "    }\n",
       "\n",
       "    .dataframe tbody tr th {\n",
       "        vertical-align: top;\n",
       "    }\n",
       "\n",
       "    .dataframe thead th {\n",
       "        text-align: right;\n",
       "    }\n",
       "</style>\n",
       "<table border=\"1\" class=\"dataframe\">\n",
       "  <thead>\n",
       "    <tr style=\"text-align: right;\">\n",
       "      <th></th>\n",
       "      <th>Features</th>\n",
       "      <th>Weights</th>\n",
       "    </tr>\n",
       "  </thead>\n",
       "  <tbody>\n",
       "    <tr>\n",
       "      <th>0</th>\n",
       "      <td>Bias</td>\n",
       "      <td>1.888889</td>\n",
       "    </tr>\n",
       "    <tr>\n",
       "      <th>1</th>\n",
       "      <td>Goals</td>\n",
       "      <td>-0.302919</td>\n",
       "    </tr>\n",
       "    <tr>\n",
       "      <th>2</th>\n",
       "      <td>Assists</td>\n",
       "      <td>0.017731</td>\n",
       "    </tr>\n",
       "  </tbody>\n",
       "</table>\n",
       "</div>"
      ],
      "text/plain": [
       "  Features   Weights\n",
       "0     Bias  1.888889\n",
       "1    Goals -0.302919\n",
       "2  Assists  0.017731"
      ]
     },
     "execution_count": 42,
     "metadata": {},
     "output_type": "execute_result"
    }
   ],
   "source": [
    "reg_summary = pd.DataFrame([['Bias'],['Goals'],['Assists']], columns=['Features'])\n",
    "reg_summary['Weights'] = reg.intercept_, reg.coef_[0], reg.coef_[1]\n",
    "reg_summary"
   ]
  },
  {
   "cell_type": "markdown",
   "metadata": {},
   "source": [
    "## Making Predictions With Standardized Coefficients"
   ]
  },
  {
   "cell_type": "markdown",
   "metadata": {},
   "source": [
    "If he scores 30 goals and 10 assists in a season, the most likely rank of the team in the end of the season is the following"
   ]
  },
  {
   "cell_type": "code",
   "execution_count": 48,
   "metadata": {},
   "outputs": [],
   "source": [
    "new_data = pd.DataFrame(data = [[30,10]], columns = ['Goals','Assists'])\n",
    "new_data_scaled = scaler.transform(new_data)"
   ]
  },
  {
   "cell_type": "code",
   "execution_count": 49,
   "metadata": {},
   "outputs": [
    {
     "data": {
      "text/plain": [
       "array([1.78597886])"
      ]
     },
     "execution_count": 49,
     "metadata": {},
     "output_type": "execute_result"
    }
   ],
   "source": [
    "reg.predict(new_data_scaled)"
   ]
  },
  {
   "cell_type": "markdown",
   "metadata": {},
   "source": [
    "Probable rank is 1.8. How fantastic!"
   ]
  }
 ],
 "metadata": {
  "kernelspec": {
   "display_name": "Python 3",
   "language": "python",
   "name": "python3"
  },
  "language_info": {
   "codemirror_mode": {
    "name": "ipython",
    "version": 3
   },
   "file_extension": ".py",
   "mimetype": "text/x-python",
   "name": "python",
   "nbconvert_exporter": "python",
   "pygments_lexer": "ipython3",
   "version": "3.7.6"
  }
 },
 "nbformat": 4,
 "nbformat_minor": 4
}
