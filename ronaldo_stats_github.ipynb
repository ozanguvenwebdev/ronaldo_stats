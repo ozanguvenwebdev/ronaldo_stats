{
 "cells": [
  {
   "cell_type": "markdown",
   "metadata": {},
   "source": [
    "# GETTING DATA"
   ]
  },
  {
   "cell_type": "markdown",
   "metadata": {},
   "source": [
    "### Necessary Libraries"
   ]
  },
  {
   "cell_type": "code",
   "execution_count": 1,
   "metadata": {},
   "outputs": [],
   "source": [
    "import requests\n",
    "import pandas as pd\n",
    "from bs4 import BeautifulSoup"
   ]
  },
  {
   "cell_type": "markdown",
   "metadata": {},
   "source": [
    "### Collecting the web page with requests "
   ]
  },
  {
   "cell_type": "code",
   "execution_count": 2,
   "metadata": {},
   "outputs": [],
   "source": [
    "page = requests.get(\"https://fbref.com/en/players/dea698d9/Cristiano-Ronaldo\")\n",
    "soup = BeautifulSoup(page.content,\"html.parser\")"
   ]
  },
  {
   "cell_type": "markdown",
   "metadata": {},
   "source": [
    "### Collecting the data"
   ]
  },
  {
   "cell_type": "markdown",
   "metadata": {},
   "source": [
    "#### Collecting the seasons was easier than the other data"
   ]
  },
  {
   "cell_type": "code",
   "execution_count": 3,
   "metadata": {},
   "outputs": [],
   "source": [
    "single_year = soup.find_all(id=\"stats\")\n",
    "seasons = [single_year[x].find(class_=\"left\").get_text() for x in range(0,18)]"
   ]
  },
  {
   "cell_type": "code",
   "execution_count": 4,
   "metadata": {},
   "outputs": [],
   "source": [
    "all_years = [single_year[x] for x in range(0,18)]\n",
    "find_td = [all_years[x].find_all(\"td\") for x in range(0,18)]"
   ]
  },
  {
   "cell_type": "code",
   "execution_count": 5,
   "metadata": {},
   "outputs": [],
   "source": [
    "age = [find_td[x][0].get_text() for x in range(0,18)]\n",
    "club = [find_td[x][1].get_text() for x in range(0,18)]\n",
    "rank = [find_td[x][4].get_text() for x in range(0,18)]\n",
    "mp = [find_td[x][5].get_text() for x in range(0,18)]\n",
    "f11 = [find_td[x][6].get_text() for x in range(0,18)]\n",
    "mins = [find_td[x][7].get_text() for x in range(0,18)]\n",
    "goals = [find_td[x][8].get_text() for x in range(0,18)]\n",
    "assists = [find_td[x][9].get_text() for x in range(0,18)]\n",
    "pkg = [find_td[x][10].get_text() for x in range(0,18)]\n",
    "pka = [find_td[x][11].get_text() for x in range(0,18)]\n",
    "cy = [find_td[x][12].get_text() for x in range(0,18)]\n",
    "cr = [find_td[x][13].get_text() for x in range(0,18)]\n",
    "gpm = [find_td[x][14].get_text() for x in range(0,18)]"
   ]
  },
  {
   "cell_type": "markdown",
   "metadata": {},
   "source": [
    "### Turning data into CSV"
   ]
  },
  {
   "cell_type": "code",
   "execution_count": 6,
   "metadata": {},
   "outputs": [],
   "source": [
    "ronaldo_stats = pd.DataFrame({\n",
    "    \"Seasons\":seasons,\n",
    "    \"Age\":age,\n",
    "    \"Club\":club,\n",
    "    \"League Rank\":rank,\n",
    "    \"Matches Played\":mp,\n",
    "    \"Matches Started by CR7\":f11,\n",
    "    \"Minutes\":mins,\n",
    "    \"Goals\":goals,\n",
    "    \"Assists\":assists,\n",
    "    \"Penalty Goals\":pkg,\n",
    "    \"Penalties Attempted\":pka,\n",
    "    \"Yellow Cards\":cy,\n",
    "    \"Red Cards\":cr,\n",
    "    \"Goals per 90min\":gpm\n",
    "})"
   ]
  },
  {
   "cell_type": "code",
   "execution_count": 7,
   "metadata": {},
   "outputs": [],
   "source": [
    "ronaldo_stats.to_csv(\"Ronaldo_Statistics_Github\")"
   ]
  }
 ],
 "metadata": {
  "kernelspec": {
   "display_name": "Python 3",
   "language": "python",
   "name": "python3"
  },
  "language_info": {
   "codemirror_mode": {
    "name": "ipython",
    "version": 3
   },
   "file_extension": ".py",
   "mimetype": "text/x-python",
   "name": "python",
   "nbconvert_exporter": "python",
   "pygments_lexer": "ipython3",
   "version": "3.7.6"
  }
 },
 "nbformat": 4,
 "nbformat_minor": 4
}
